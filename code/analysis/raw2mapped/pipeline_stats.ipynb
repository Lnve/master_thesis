{
 "cells": [
  {
   "cell_type": "code",
   "execution_count": 1,
   "id": "cc0aca07-af41-48b4-afbf-f986b6e99f45",
   "metadata": {},
   "outputs": [],
   "source": [
    "import argparse\n",
    "import subprocess\n",
    "import pandas as pd\n",
    "import json\n",
    "import glob\n",
    "import os.path\n",
    "import seaborn as sns\n",
    "import matplotlib.pylab as plt"
   ]
  },
  {
   "cell_type": "code",
   "execution_count": 3,
   "id": "81aad324-1f3e-40c5-8b77-ae0486e64cfd",
   "metadata": {},
   "outputs": [
    {
     "name": "stdout",
     "output_type": "stream",
     "text": [
      "[5018501, 6741262, 6167404, 7381519]\n",
      "[2886136, 4282218, 3733729, 4530486]\n"
     ]
    }
   ],
   "source": [
    "# process input files\n",
    "# ccs\n",
    "ccs_in = sorted(glob.glob(\"../../output/ccs/pool*/*.report.txt\"))\n",
    "\n",
    "input_reads = []\n",
    "kept_ccs = []\n",
    "for file in ccs_in:\n",
    "    content = open(file, 'r')\n",
    "    lines = content.readlines()\n",
    "    input = 0\n",
    "    for line in lines:\n",
    "        if line.startswith(\"ZMWs pass filters\"):\n",
    "            kept_ccs.append(int(line.strip(\"\\n\").split(\":\")[1].split(\" \")[1]))\n",
    "            input += int(line.strip(\"\\n\").split(\":\")[1].split(\" \")[1])\n",
    "        if line.startswith(\"ZMWs fail filters\"):\n",
    "            input += int(line.strip(\"\\n\").split(\":\")[1].split(\" \")[1])\n",
    "    input_reads.append(input)\n",
    "print(input_reads)\n",
    "print(kept_ccs)"
   ]
  },
  {
   "cell_type": "code",
   "execution_count": 4,
   "id": "95d08219-6988-4beb-8ff1-48735810a20a",
   "metadata": {},
   "outputs": [
    {
     "name": "stdout",
     "output_type": "stream",
     "text": [
      "['2509651', '3673724', '3216723', '3879211']\n"
     ]
    }
   ],
   "source": [
    "# lima\n",
    "lima_in = sorted(glob.glob(\"../../output/lima/pool*/*.demux.hifi.lima.summary\"))\n",
    "kept_lima = []\n",
    "\n",
    "for file in lima_in:\n",
    "    content = open(file, 'r')\n",
    "    lines = content.readlines()\n",
    "    for line in lines:\n",
    "        if line.startswith(\"ZMWs above all thresholds\"):\n",
    "            kept_lima.append(line.strip(\"\\n\").split(\":\")[1].split(\" \")[1])\n",
    "print(kept_lima)"
   ]
  },
  {
   "cell_type": "code",
   "execution_count": 5,
   "id": "19f61224-8e23-4eee-a1e8-afdf991f3a97",
   "metadata": {},
   "outputs": [],
   "source": [
    "# refine\n",
    "\n",
    "refine_in = sorted(glob.glob(\"../../output/refine/pool*/*.ncfl.filter_summary.report.json\"))\n",
    "pool = []\n",
    "samples = []\n",
    "all = []\n",
    "kept_fl = []\n",
    "kept_polya = []"
   ]
  },
  {
   "cell_type": "code",
   "execution_count": 6,
   "id": "307db6ab-0118-4c38-bceb-bca3522cdb8b",
   "metadata": {},
   "outputs": [],
   "source": [
    "for file in refine_in:\n",
    "    pool.append(os.path.basename(file).split(\".\")[0])\n",
    "    samples.append(os.path.basename(file).split(\".\")[1])\n",
    "    with open(file, 'r') as f:\n",
    "        d = json.load(f)\n",
    "        all.append(d[\"attributes\"][1][\"value\"])\n",
    "        kept_fl.append(d[\"attributes\"][2][\"value\"])\n",
    "        kept_polya.append(d[\"attributes\"][3][\"value\"])"
   ]
  },
  {
   "cell_type": "code",
   "execution_count": 7,
   "id": "e00d4380-f358-4c36-9082-305f544dfd9f",
   "metadata": {},
   "outputs": [
    {
     "name": "stdout",
     "output_type": "stream",
     "text": [
      "{'pool1': [2509651, 2506302, 2505663], 'pool2': [3673724, 3671909, 3671162], 'pool3': [3216723, 3215314, 3214628], 'pool4': [3879211, 3875757, 3875048]}\n"
     ]
    }
   ],
   "source": [
    "# prepare refine for pool dataframe\n",
    "refine_pool_dict = {}\n",
    "for idx in range(len(pool)):\n",
    "    if pool[idx] in refine_pool_dict:\n",
    "        refine_pool_dict[pool[idx]][0] += int(all[idx])\n",
    "        refine_pool_dict[pool[idx]][1] += int(kept_fl[idx])\n",
    "        refine_pool_dict[pool[idx]][2] += int(kept_polya[idx])\n",
    "    else:\n",
    "        refine_pool_dict[pool[idx]] = []\n",
    "        refine_pool_dict[pool[idx]].append(int(all[idx]))\n",
    "        refine_pool_dict[pool[idx]].append(int(kept_fl[idx]))\n",
    "        refine_pool_dict[pool[idx]].append(int(kept_polya[idx]))\n",
    "print(refine_pool_dict)"
   ]
  },
  {
   "cell_type": "code",
   "execution_count": 8,
   "id": "a4c6cc5c-a874-432b-bf9e-596c61771768",
   "metadata": {},
   "outputs": [
    {
     "name": "stdout",
     "output_type": "stream",
     "text": [
      "{'at6923': [891693, 891231, 891069], 'at6929': [614870, 614433, 614271], 'at7143': [695793, 694739, 694619], 'at8285': [462467, 461530, 461416], 'at9104': [613293, 612388, 612266], 'at9336': [723899, 722833, 722673], 'at9503': [668484, 667934, 667785], 'at9578': [967826, 966921, 966731], 'at9744': [698987, 698365, 698207], 'at9762': [541174, 540940, 540844], 'at9806': [469177, 468947, 468853], 'at9830': [499613, 499310, 499203], 'at9847': [798345, 797954, 797782], 'at9852': [502251, 502021, 501926], 'at9879': [461499, 461358, 461274], 'at9883': [453215, 453064, 452954], 'Ha166-4': [494202, 493955, 493847], 'Ha495-1': [427644, 427456, 427354], 'Ha527-3': [570267, 570048, 569924], 'Ha527-3_sp': [570381, 570109, 570011], 'at9900': [649292, 648999, 648866], 'col0': [504937, 504747, 504626]}\n"
     ]
    }
   ],
   "source": [
    "# prepare refine for sample dataframe\n",
    "\n",
    "refine_sample_dict = {}\n",
    "for idx in range(len(samples)):\n",
    "    if samples[idx] in refine_sample_dict:\n",
    "        refine_sample_dict[samples[idx]][0] += int(all[idx])\n",
    "        refine_sample_dict[samples[idx]][1] += int(kept_fl[idx])\n",
    "        refine_sample_dict[samples[idx]][2] += int(kept_polya[idx])\n",
    "    else:\n",
    "        refine_sample_dict[samples[idx]] = []\n",
    "        refine_sample_dict[samples[idx]].append(int(all[idx]))\n",
    "        refine_sample_dict[samples[idx]].append(int(kept_fl[idx]))\n",
    "        refine_sample_dict[samples[idx]].append(int(kept_polya[idx]))\n",
    "print(refine_sample_dict)"
   ]
  },
  {
   "cell_type": "code",
   "execution_count": 9,
   "id": "a360b186-2a83-48ee-a39c-8bfaf2505274",
   "metadata": {},
   "outputs": [
    {
     "name": "stdout",
     "output_type": "stream",
     "text": [
      "../../output/mapping_pb/at6923.mapped.bam\n",
      "../../output/mapping_pb/at6929.mapped.bam\n",
      "../../output/mapping_pb/at7143.mapped.bam\n",
      "../../output/mapping_pb/at8285.mapped.bam\n",
      "../../output/mapping_pb/at9104.mapped.bam\n",
      "../../output/mapping_pb/at9336.mapped.bam\n",
      "../../output/mapping_pb/at9503.mapped.bam\n",
      "../../output/mapping_pb/at9578.mapped.bam\n",
      "../../output/mapping_pb/at9744.mapped.bam\n",
      "../../output/mapping_pb/at9762.mapped.bam\n",
      "../../output/mapping_pb/at9806.mapped.bam\n",
      "../../output/mapping_pb/at9830.mapped.bam\n",
      "../../output/mapping_pb/at9847.mapped.bam\n",
      "../../output/mapping_pb/at9852.mapped.bam\n",
      "../../output/mapping_pb/at9879.mapped.bam\n",
      "../../output/mapping_pb/at9883.mapped.bam\n",
      "../../output/mapping_pb/at9900.mapped.bam\n",
      "../../output/mapping_pb/col0.mapped.bam\n",
      "['858741', '589389', '675113', '446256', '616228', '707240', '656640', '931147', '686121', '516363', '463638', '478886', '762602', '473759', '456089', '443161', '627192', '502998']\n",
      "../../output/mapping_minimap/at6923.mapped.bam\n",
      "../../output/mapping_minimap/at6929.mapped.bam\n",
      "../../output/mapping_minimap/at7143.mapped.bam\n",
      "../../output/mapping_minimap/at8285.mapped.bam\n",
      "../../output/mapping_minimap/at9104.mapped.bam\n",
      "../../output/mapping_minimap/at9336.mapped.bam\n",
      "../../output/mapping_minimap/at9503.mapped.bam\n",
      "../../output/mapping_minimap/at9578.mapped.bam\n",
      "../../output/mapping_minimap/at9744.mapped.bam\n",
      "../../output/mapping_minimap/at9762.mapped.bam\n",
      "../../output/mapping_minimap/at9806.mapped.bam\n",
      "../../output/mapping_minimap/at9830.mapped.bam\n",
      "../../output/mapping_minimap/at9847.mapped.bam\n",
      "../../output/mapping_minimap/at9852.mapped.bam\n",
      "../../output/mapping_minimap/at9879.mapped.bam\n",
      "../../output/mapping_minimap/at9883.mapped.bam\n",
      "../../output/mapping_minimap/at9900.mapped.bam\n",
      "../../output/mapping_minimap/col0.mapped.bam\n",
      "['896816', '608910', '693137', '460200', '631289', '728372', '676935', '966659', '726152', '537522', '480696', '499212', '790352', '498017', '475608', '464141', '653093', '515929']\n"
     ]
    }
   ],
   "source": [
    "# get mapped reads pb\n",
    "mapped_pb = []\n",
    "mapped_mini = []\n",
    "\n",
    "for file in sorted(glob.glob(\"../../output/mapping_pb/*.bam\")):\n",
    "    print(file)\n",
    "    mapped_pb.append(subprocess.run([f\"samtools view -c -F 4 {file}\"], shell=True, capture_output=True, text=True).stdout.strip(\"\\n\"))\n",
    "print(mapped_pb)\n",
    "\n",
    "# get mapped reads minimap\n",
    "for file in sorted(glob.glob(\"../../output/mapping_minimap/*.bam\")):\n",
    "    print(file)\n",
    "    mapped_mini.append(subprocess.run([f\"samtools view -c -F 4 {file}\"], shell=True, capture_output=True, text=True).stdout.strip(\"\\n\"))\n",
    "print(mapped_mini)"
   ]
  },
  {
   "cell_type": "code",
   "execution_count": 41,
   "id": "9a64cc69-be2d-484c-b23d-f69b46d17d3b",
   "metadata": {},
   "outputs": [],
   "source": [
    "# create dataframes\n",
    "pool_df = pd.DataFrame({'CCS Input': input_reads,\n",
    "                        'CCS kept': kept_ccs,\n",
    "                        'Lima kept': kept_lima,\n",
    "                        'Full-Length Reads': [x[0] for x in refine_pool_dict.values()],\n",
    "                        'Full-Length Non-Chimeric Reads': [x[1] for x in refine_pool_dict.values()],\n",
    "                        'Full-Length Non-Chimeric Reads with Poly-A Tail': [x[2] for x in refine_pool_dict.values()]})\n",
    "pool_df.index = sorted(list(set(pool)))\n",
    "\n",
    "pool_df[\"kept\"]=pool_df[\"Full-Length Non-Chimeric Reads with Poly-A Tail\"]/pool_df[\"CCS Input\"]\n",
    "pool_df.to_csv('./pipeline_pools.stats.csv')"
   ]
  },
  {
   "cell_type": "code",
   "execution_count": 44,
   "id": "702ad1a0-e82a-475e-82ac-4ff08b214a4c",
   "metadata": {},
   "outputs": [
    {
     "data": {
      "text/html": [
       "<div>\n",
       "<style scoped>\n",
       "    .dataframe tbody tr th:only-of-type {\n",
       "        vertical-align: middle;\n",
       "    }\n",
       "\n",
       "    .dataframe tbody tr th {\n",
       "        vertical-align: top;\n",
       "    }\n",
       "\n",
       "    .dataframe thead th {\n",
       "        text-align: right;\n",
       "    }\n",
       "</style>\n",
       "<table border=\"1\" class=\"dataframe\">\n",
       "  <thead>\n",
       "    <tr style=\"text-align: right;\">\n",
       "      <th></th>\n",
       "      <th>CCS Input</th>\n",
       "      <th>CCS kept</th>\n",
       "      <th>Lima kept</th>\n",
       "      <th>Full-Length Reads</th>\n",
       "      <th>Full-Length Non-Chimeric Reads</th>\n",
       "      <th>Full-Length Non-Chimeric Reads with Poly-A Tail</th>\n",
       "      <th>kept</th>\n",
       "    </tr>\n",
       "  </thead>\n",
       "  <tbody>\n",
       "    <tr>\n",
       "      <th>pool1</th>\n",
       "      <td>5018501</td>\n",
       "      <td>2886136</td>\n",
       "      <td>2509651</td>\n",
       "      <td>2509651</td>\n",
       "      <td>2506302</td>\n",
       "      <td>2505663</td>\n",
       "      <td>0.499285</td>\n",
       "    </tr>\n",
       "    <tr>\n",
       "      <th>pool2</th>\n",
       "      <td>6741262</td>\n",
       "      <td>4282218</td>\n",
       "      <td>3673724</td>\n",
       "      <td>3673724</td>\n",
       "      <td>3671909</td>\n",
       "      <td>3671162</td>\n",
       "      <td>0.544581</td>\n",
       "    </tr>\n",
       "    <tr>\n",
       "      <th>pool3</th>\n",
       "      <td>6167404</td>\n",
       "      <td>3733729</td>\n",
       "      <td>3216723</td>\n",
       "      <td>3216723</td>\n",
       "      <td>3215314</td>\n",
       "      <td>3214628</td>\n",
       "      <td>0.521229</td>\n",
       "    </tr>\n",
       "    <tr>\n",
       "      <th>pool4</th>\n",
       "      <td>7381519</td>\n",
       "      <td>4530486</td>\n",
       "      <td>3879211</td>\n",
       "      <td>3879211</td>\n",
       "      <td>3875757</td>\n",
       "      <td>3875048</td>\n",
       "      <td>0.524966</td>\n",
       "    </tr>\n",
       "  </tbody>\n",
       "</table>\n",
       "</div>"
      ],
      "text/plain": [
       "       CCS Input  CCS kept Lima kept  Full-Length Reads  \\\n",
       "pool1    5018501   2886136   2509651            2509651   \n",
       "pool2    6741262   4282218   3673724            3673724   \n",
       "pool3    6167404   3733729   3216723            3216723   \n",
       "pool4    7381519   4530486   3879211            3879211   \n",
       "\n",
       "       Full-Length Non-Chimeric Reads  \\\n",
       "pool1                         2506302   \n",
       "pool2                         3671909   \n",
       "pool3                         3215314   \n",
       "pool4                         3875757   \n",
       "\n",
       "       Full-Length Non-Chimeric Reads with Poly-A Tail      kept  \n",
       "pool1                                          2505663  0.499285  \n",
       "pool2                                          3671162  0.544581  \n",
       "pool3                                          3214628  0.521229  \n",
       "pool4                                          3875048  0.524966  "
      ]
     },
     "execution_count": 44,
     "metadata": {},
     "output_type": "execute_result"
    }
   ],
   "source": [
    "pool_df"
   ]
  },
  {
   "cell_type": "code",
   "execution_count": 12,
   "id": "e954b7fb-5359-4b0d-ab7a-670b13354f46",
   "metadata": {
    "tags": []
   },
   "outputs": [],
   "source": [
    "sample_df = pd.DataFrame({'Full-Length Reads': [x[0] for x in refine_sample_dict.values()],\n",
    "                           'Full-Length Non-Chimeric Reads': [x[1] for x in refine_sample_dict.values()],\n",
    "                           'Full-Length Non-Chimeric Reads with Poly-A Tail': [x[2] for x in refine_sample_dict.values()]})\n",
    "\n",
    "unique_list = []\n",
    "for s in samples:\n",
    "    if s not in unique_list:\n",
    "        unique_list.append(s)\n",
    "sample_df.index = unique_list\n",
    "\n",
    "sample_df.to_csv('./pipeline_samples.stats.csv')"
   ]
  },
  {
   "cell_type": "code",
   "execution_count": 13,
   "id": "6b2980ef-ca38-4c2c-9f76-7a5cf29c5fdb",
   "metadata": {},
   "outputs": [
    {
     "data": {
      "text/html": [
       "<div>\n",
       "<style scoped>\n",
       "    .dataframe tbody tr th:only-of-type {\n",
       "        vertical-align: middle;\n",
       "    }\n",
       "\n",
       "    .dataframe tbody tr th {\n",
       "        vertical-align: top;\n",
       "    }\n",
       "\n",
       "    .dataframe thead th {\n",
       "        text-align: right;\n",
       "    }\n",
       "</style>\n",
       "<table border=\"1\" class=\"dataframe\">\n",
       "  <thead>\n",
       "    <tr style=\"text-align: right;\">\n",
       "      <th></th>\n",
       "      <th>Full-Length Reads</th>\n",
       "      <th>Full-Length Non-Chimeric Reads</th>\n",
       "      <th>Full-Length Non-Chimeric Reads with Poly-A Tail</th>\n",
       "    </tr>\n",
       "  </thead>\n",
       "  <tbody>\n",
       "    <tr>\n",
       "      <th>at6923</th>\n",
       "      <td>891693</td>\n",
       "      <td>891231</td>\n",
       "      <td>891069</td>\n",
       "    </tr>\n",
       "    <tr>\n",
       "      <th>at6929</th>\n",
       "      <td>614870</td>\n",
       "      <td>614433</td>\n",
       "      <td>614271</td>\n",
       "    </tr>\n",
       "    <tr>\n",
       "      <th>at7143</th>\n",
       "      <td>695793</td>\n",
       "      <td>694739</td>\n",
       "      <td>694619</td>\n",
       "    </tr>\n",
       "    <tr>\n",
       "      <th>at8285</th>\n",
       "      <td>462467</td>\n",
       "      <td>461530</td>\n",
       "      <td>461416</td>\n",
       "    </tr>\n",
       "    <tr>\n",
       "      <th>at9104</th>\n",
       "      <td>613293</td>\n",
       "      <td>612388</td>\n",
       "      <td>612266</td>\n",
       "    </tr>\n",
       "    <tr>\n",
       "      <th>at9336</th>\n",
       "      <td>723899</td>\n",
       "      <td>722833</td>\n",
       "      <td>722673</td>\n",
       "    </tr>\n",
       "    <tr>\n",
       "      <th>at9503</th>\n",
       "      <td>668484</td>\n",
       "      <td>667934</td>\n",
       "      <td>667785</td>\n",
       "    </tr>\n",
       "    <tr>\n",
       "      <th>at9578</th>\n",
       "      <td>967826</td>\n",
       "      <td>966921</td>\n",
       "      <td>966731</td>\n",
       "    </tr>\n",
       "    <tr>\n",
       "      <th>at9744</th>\n",
       "      <td>698987</td>\n",
       "      <td>698365</td>\n",
       "      <td>698207</td>\n",
       "    </tr>\n",
       "    <tr>\n",
       "      <th>at9762</th>\n",
       "      <td>541174</td>\n",
       "      <td>540940</td>\n",
       "      <td>540844</td>\n",
       "    </tr>\n",
       "    <tr>\n",
       "      <th>at9806</th>\n",
       "      <td>469177</td>\n",
       "      <td>468947</td>\n",
       "      <td>468853</td>\n",
       "    </tr>\n",
       "    <tr>\n",
       "      <th>at9830</th>\n",
       "      <td>499613</td>\n",
       "      <td>499310</td>\n",
       "      <td>499203</td>\n",
       "    </tr>\n",
       "    <tr>\n",
       "      <th>at9847</th>\n",
       "      <td>798345</td>\n",
       "      <td>797954</td>\n",
       "      <td>797782</td>\n",
       "    </tr>\n",
       "    <tr>\n",
       "      <th>at9852</th>\n",
       "      <td>502251</td>\n",
       "      <td>502021</td>\n",
       "      <td>501926</td>\n",
       "    </tr>\n",
       "    <tr>\n",
       "      <th>at9879</th>\n",
       "      <td>461499</td>\n",
       "      <td>461358</td>\n",
       "      <td>461274</td>\n",
       "    </tr>\n",
       "    <tr>\n",
       "      <th>at9883</th>\n",
       "      <td>453215</td>\n",
       "      <td>453064</td>\n",
       "      <td>452954</td>\n",
       "    </tr>\n",
       "    <tr>\n",
       "      <th>Ha166-4</th>\n",
       "      <td>494202</td>\n",
       "      <td>493955</td>\n",
       "      <td>493847</td>\n",
       "    </tr>\n",
       "    <tr>\n",
       "      <th>Ha495-1</th>\n",
       "      <td>427644</td>\n",
       "      <td>427456</td>\n",
       "      <td>427354</td>\n",
       "    </tr>\n",
       "    <tr>\n",
       "      <th>Ha527-3</th>\n",
       "      <td>570267</td>\n",
       "      <td>570048</td>\n",
       "      <td>569924</td>\n",
       "    </tr>\n",
       "    <tr>\n",
       "      <th>Ha527-3_sp</th>\n",
       "      <td>570381</td>\n",
       "      <td>570109</td>\n",
       "      <td>570011</td>\n",
       "    </tr>\n",
       "    <tr>\n",
       "      <th>at9900</th>\n",
       "      <td>649292</td>\n",
       "      <td>648999</td>\n",
       "      <td>648866</td>\n",
       "    </tr>\n",
       "    <tr>\n",
       "      <th>col0</th>\n",
       "      <td>504937</td>\n",
       "      <td>504747</td>\n",
       "      <td>504626</td>\n",
       "    </tr>\n",
       "  </tbody>\n",
       "</table>\n",
       "</div>"
      ],
      "text/plain": [
       "            Full-Length Reads  Full-Length Non-Chimeric Reads  \\\n",
       "at6923                 891693                          891231   \n",
       "at6929                 614870                          614433   \n",
       "at7143                 695793                          694739   \n",
       "at8285                 462467                          461530   \n",
       "at9104                 613293                          612388   \n",
       "at9336                 723899                          722833   \n",
       "at9503                 668484                          667934   \n",
       "at9578                 967826                          966921   \n",
       "at9744                 698987                          698365   \n",
       "at9762                 541174                          540940   \n",
       "at9806                 469177                          468947   \n",
       "at9830                 499613                          499310   \n",
       "at9847                 798345                          797954   \n",
       "at9852                 502251                          502021   \n",
       "at9879                 461499                          461358   \n",
       "at9883                 453215                          453064   \n",
       "Ha166-4                494202                          493955   \n",
       "Ha495-1                427644                          427456   \n",
       "Ha527-3                570267                          570048   \n",
       "Ha527-3_sp             570381                          570109   \n",
       "at9900                 649292                          648999   \n",
       "col0                   504937                          504747   \n",
       "\n",
       "            Full-Length Non-Chimeric Reads with Poly-A Tail  \n",
       "at6923                                               891069  \n",
       "at6929                                               614271  \n",
       "at7143                                               694619  \n",
       "at8285                                               461416  \n",
       "at9104                                               612266  \n",
       "at9336                                               722673  \n",
       "at9503                                               667785  \n",
       "at9578                                               966731  \n",
       "at9744                                               698207  \n",
       "at9762                                               540844  \n",
       "at9806                                               468853  \n",
       "at9830                                               499203  \n",
       "at9847                                               797782  \n",
       "at9852                                               501926  \n",
       "at9879                                               461274  \n",
       "at9883                                               452954  \n",
       "Ha166-4                                              493847  \n",
       "Ha495-1                                              427354  \n",
       "Ha527-3                                              569924  \n",
       "Ha527-3_sp                                           570011  \n",
       "at9900                                               648866  \n",
       "col0                                                 504626  "
      ]
     },
     "execution_count": 13,
     "metadata": {},
     "output_type": "execute_result"
    }
   ],
   "source": [
    "sample_df"
   ]
  },
  {
   "cell_type": "code",
   "execution_count": null,
   "id": "830f3214-a2ce-42ec-b31b-0896af8e2406",
   "metadata": {},
   "outputs": [],
   "source": []
  },
  {
   "cell_type": "code",
   "execution_count": 14,
   "id": "8010ecee-5477-4156-83c9-6e85e24fd524",
   "metadata": {},
   "outputs": [
    {
     "name": "stdout",
     "output_type": "stream",
     "text": [
      "{'at6923': [891693, 891231, 891069], 'at6929': [614870, 614433, 614271], 'at7143': [695793, 694739, 694619], 'at8285': [462467, 461530, 461416], 'at9104': [613293, 612388, 612266], 'at9336': [723899, 722833, 722673], 'at9503': [668484, 667934, 667785], 'at9578': [967826, 966921, 966731], 'at9744': [698987, 698365, 698207], 'at9762': [541174, 540940, 540844], 'at9806': [469177, 468947, 468853], 'at9830': [499613, 499310, 499203], 'at9847': [798345, 797954, 797782], 'at9852': [502251, 502021, 501926], 'at9879': [461499, 461358, 461274], 'at9883': [453215, 453064, 452954], 'at9900': [649292, 648999, 648866], 'col0': [504937, 504747, 504626]}\n"
     ]
    }
   ],
   "source": [
    "for i in['Ha166-4','Ha495-1','Ha527-3','Ha527-3_sp']:\n",
    "    del refine_sample_dict[i]\n",
    "print(refine_sample_dict)"
   ]
  },
  {
   "cell_type": "code",
   "execution_count": 15,
   "id": "1455dd3e-1a05-40dc-8198-bbbeec78ef21",
   "metadata": {
    "tags": []
   },
   "outputs": [],
   "source": [
    "at_sample_df = pd.DataFrame({'Full-Length Reads': [x[0] for x in refine_sample_dict.values()],\n",
    "                             'Full-Length Non-Chimeric Reads': [x[1] for x in refine_sample_dict.values()],\n",
    "                             'Full-Length Non-Chimeric Reads with Poly-A Tail': [x[2] for x in refine_sample_dict.values()],\n",
    "                             'pbmm2-Mapping': [x for x in mapped_pb],\n",
    "                             'minimap2-Mapping': [x for x in mapped_mini]})"
   ]
  },
  {
   "cell_type": "code",
   "execution_count": 16,
   "id": "8706cb20-2aa4-440f-b514-dc0322a159b9",
   "metadata": {},
   "outputs": [
    {
     "name": "stdout",
     "output_type": "stream",
     "text": [
      "        Full-Length Reads  Full-Length Non-Chimeric Reads  \\\n",
      "at6923             891693                          891231   \n",
      "at6929             614870                          614433   \n",
      "at7143             695793                          694739   \n",
      "at8285             462467                          461530   \n",
      "at9104             613293                          612388   \n",
      "at9336             723899                          722833   \n",
      "at9503             668484                          667934   \n",
      "at9578             967826                          966921   \n",
      "at9744             698987                          698365   \n",
      "at9762             541174                          540940   \n",
      "at9806             469177                          468947   \n",
      "at9830             499613                          499310   \n",
      "at9847             798345                          797954   \n",
      "at9852             502251                          502021   \n",
      "at9879             461499                          461358   \n",
      "at9883             453215                          453064   \n",
      "at9900             649292                          648999   \n",
      "col0               504937                          504747   \n",
      "\n",
      "        Full-Length Non-Chimeric Reads with Poly-A Tail pbmm2-Mapping  \\\n",
      "at6923                                           891069        858741   \n",
      "at6929                                           614271        589389   \n",
      "at7143                                           694619        675113   \n",
      "at8285                                           461416        446256   \n",
      "at9104                                           612266        616228   \n",
      "at9336                                           722673        707240   \n",
      "at9503                                           667785        656640   \n",
      "at9578                                           966731        931147   \n",
      "at9744                                           698207        686121   \n",
      "at9762                                           540844        516363   \n",
      "at9806                                           468853        463638   \n",
      "at9830                                           499203        478886   \n",
      "at9847                                           797782        762602   \n",
      "at9852                                           501926        473759   \n",
      "at9879                                           461274        456089   \n",
      "at9883                                           452954        443161   \n",
      "at9900                                           648866        627192   \n",
      "col0                                             504626        502998   \n",
      "\n",
      "       minimap2-Mapping  \n",
      "at6923           896816  \n",
      "at6929           608910  \n",
      "at7143           693137  \n",
      "at8285           460200  \n",
      "at9104           631289  \n",
      "at9336           728372  \n",
      "at9503           676935  \n",
      "at9578           966659  \n",
      "at9744           726152  \n",
      "at9762           537522  \n",
      "at9806           480696  \n",
      "at9830           499212  \n",
      "at9847           790352  \n",
      "at9852           498017  \n",
      "at9879           475608  \n",
      "at9883           464141  \n",
      "at9900           653093  \n",
      "col0             515929  \n"
     ]
    }
   ],
   "source": [
    "unique_list = []\n",
    "for s in samples:\n",
    "    if s not in unique_list and s not in ['Ha166-4','Ha495-1','Ha527-3','Ha527-3_sp']:\n",
    "        unique_list.append(s)\n",
    "at_sample_df.index = unique_list\n",
    "\n",
    "print(at_sample_df)\n",
    "at_sample_df.to_csv('./at_samples.stats.csv')"
   ]
  },
  {
   "cell_type": "code",
   "execution_count": 129,
   "id": "cf6730d2-5b94-49f3-99d5-64816004f0f2",
   "metadata": {},
   "outputs": [
    {
     "data": {
      "text/html": [
       "<div>\n",
       "<style scoped>\n",
       "    .dataframe tbody tr th:only-of-type {\n",
       "        vertical-align: middle;\n",
       "    }\n",
       "\n",
       "    .dataframe tbody tr th {\n",
       "        vertical-align: top;\n",
       "    }\n",
       "\n",
       "    .dataframe thead th {\n",
       "        text-align: right;\n",
       "    }\n",
       "</style>\n",
       "<table border=\"1\" class=\"dataframe\">\n",
       "  <thead>\n",
       "    <tr style=\"text-align: right;\">\n",
       "      <th></th>\n",
       "      <th>col0</th>\n",
       "      <th>at9900</th>\n",
       "      <th>at9883</th>\n",
       "      <th>at9578</th>\n",
       "      <th>at8285</th>\n",
       "    </tr>\n",
       "  </thead>\n",
       "  <tbody>\n",
       "    <tr>\n",
       "      <th>Full-Length Reads</th>\n",
       "      <td>504937</td>\n",
       "      <td>649292</td>\n",
       "      <td>453215</td>\n",
       "      <td>967826</td>\n",
       "      <td>462467</td>\n",
       "    </tr>\n",
       "    <tr>\n",
       "      <th>Full-Length Non-Chimeric Reads</th>\n",
       "      <td>504747</td>\n",
       "      <td>648999</td>\n",
       "      <td>453064</td>\n",
       "      <td>966921</td>\n",
       "      <td>461530</td>\n",
       "    </tr>\n",
       "    <tr>\n",
       "      <th>Full-Length Non-Chimeric Reads with Poly-A Tail</th>\n",
       "      <td>504626</td>\n",
       "      <td>648866</td>\n",
       "      <td>452954</td>\n",
       "      <td>966731</td>\n",
       "      <td>461416</td>\n",
       "    </tr>\n",
       "    <tr>\n",
       "      <th>pbmm2-Mapping</th>\n",
       "      <td>502998</td>\n",
       "      <td>627192</td>\n",
       "      <td>443161</td>\n",
       "      <td>931147</td>\n",
       "      <td>446256</td>\n",
       "    </tr>\n",
       "    <tr>\n",
       "      <th>minimap2-Mapping</th>\n",
       "      <td>515929</td>\n",
       "      <td>653093</td>\n",
       "      <td>464141</td>\n",
       "      <td>966659</td>\n",
       "      <td>460200</td>\n",
       "    </tr>\n",
       "  </tbody>\n",
       "</table>\n",
       "</div>"
      ],
      "text/plain": [
       "                                                   col0  at9900  at9883  \\\n",
       "Full-Length Reads                                504937  649292  453215   \n",
       "Full-Length Non-Chimeric Reads                   504747  648999  453064   \n",
       "Full-Length Non-Chimeric Reads with Poly-A Tail  504626  648866  452954   \n",
       "pbmm2-Mapping                                    502998  627192  443161   \n",
       "minimap2-Mapping                                 515929  653093  464141   \n",
       "\n",
       "                                                 at9578  at8285  \n",
       "Full-Length Reads                                967826  462467  \n",
       "Full-Length Non-Chimeric Reads                   966921  461530  \n",
       "Full-Length Non-Chimeric Reads with Poly-A Tail  966731  461416  \n",
       "pbmm2-Mapping                                    931147  446256  \n",
       "minimap2-Mapping                                 966659  460200  "
      ]
     },
     "execution_count": 129,
     "metadata": {},
     "output_type": "execute_result"
    }
   ],
   "source": [
    "at_sample_df.T[[\"col0\",\"at9900\",\"at9883\",\"at9578\",\"at8285\"]]"
   ]
  },
  {
   "cell_type": "code",
   "execution_count": null,
   "id": "4c3fe7cf-42e6-460d-a42f-1dfd7793d705",
   "metadata": {},
   "outputs": [],
   "source": []
  },
  {
   "cell_type": "code",
   "execution_count": null,
   "id": "5e5a1f2d-ba4d-4a4d-a76a-25e7bc1449d6",
   "metadata": {},
   "outputs": [],
   "source": []
  },
  {
   "cell_type": "code",
   "execution_count": 94,
   "id": "a2896460-144b-4c30-a0ac-90432408efb6",
   "metadata": {},
   "outputs": [],
   "source": [
    "rel=at_sample_df.T[[\"col0\",\"at9900\",\"at9883\",\"at9578\",\"at8285\"]].T"
   ]
  },
  {
   "cell_type": "code",
   "execution_count": 95,
   "id": "27ebade7-c4d4-4df8-923d-6948cdb2db95",
   "metadata": {},
   "outputs": [],
   "source": [
    "rel[\"pbmm2-Mapping\"]=rel[\"pbmm2-Mapping\"].astype(int)\n",
    "rel[\"minimap2-Mapping\"]=rel[\"minimap2-Mapping\"].astype(int)"
   ]
  },
  {
   "cell_type": "code",
   "execution_count": 109,
   "id": "b8e605b7-ebe9-4574-b41a-1cfd18aca337",
   "metadata": {},
   "outputs": [],
   "source": [
    "rel=rel[['Full-Length Reads', 'Full-Length Non-Chimeric Reads',\n",
    "       'Full-Length Non-Chimeric Reads with Poly-A Tail', 'pbmm2-Mapping',\n",
    "       'minimap2-Mapping']].div(rel['Full-Length Reads'], axis=0)"
   ]
  },
  {
   "cell_type": "code",
   "execution_count": 110,
   "id": "04985801-bf13-4660-944f-5f2a8c3f290e",
   "metadata": {},
   "outputs": [],
   "source": [
    "pb=rel.drop(\"minimap2-Mapping\", axis=1)\n",
    "mini=rel.drop(\"pbmm2-Mapping\", axis=1)"
   ]
  },
  {
   "cell_type": "code",
   "execution_count": 111,
   "id": "5b8df0b2-7bed-4344-8bfc-6926d492a2fa",
   "metadata": {},
   "outputs": [],
   "source": [
    "pb.reset_index(inplace=True)\n",
    "mini.reset_index(inplace=True)"
   ]
  },
  {
   "cell_type": "code",
   "execution_count": 112,
   "id": "93e2ebe8-4e3d-475d-9b4c-fb87280f5af8",
   "metadata": {},
   "outputs": [],
   "source": [
    "pb.columns = ['accession','Full-Length Reads', 'Full-Length Non-Chimeric Reads','Full-Length Non-Chimeric Reads with Poly-A Tail', 'mapping']\n",
    "mini.columns = ['accession','Full-Length Reads', 'Full-Length Non-Chimeric Reads','Full-Length Non-Chimeric Reads with Poly-A Tail', 'mapping']"
   ]
  },
  {
   "cell_type": "code",
   "execution_count": 113,
   "id": "04dc9c5e-65e1-483f-8a84-7f7e0bdd0cf6",
   "metadata": {},
   "outputs": [],
   "source": [
    "pb[\"mapper\"]=\"pbmm2\"\n",
    "mini[\"mapper\"]=\"minimap2\""
   ]
  },
  {
   "cell_type": "code",
   "execution_count": 114,
   "id": "ba51e62d-4ab8-4b0f-9cac-ea9bcf150b01",
   "metadata": {},
   "outputs": [],
   "source": [
    "x=pd.concat([pb, mini])"
   ]
  },
  {
   "cell_type": "code",
   "execution_count": 123,
   "id": "c29f80bf-de33-4255-8406-a088f8c88d30",
   "metadata": {},
   "outputs": [],
   "source": [
    "x2=pd.melt(x, id_vars=[\"accession\",\"mapper\"],value_vars=['Full-Length Reads', 'Full-Length Non-Chimeric Reads','Full-Length Non-Chimeric Reads with Poly-A Tail','mapping'])"
   ]
  },
  {
   "cell_type": "code",
   "execution_count": 127,
   "id": "55952d7c-538b-4aaf-8c37-0e1a4a71481f",
   "metadata": {},
   "outputs": [],
   "source": [
    "x2[\"value\"]=x2[\"value\"]*100"
   ]
  },
  {
   "cell_type": "code",
   "execution_count": 128,
   "id": "02bc7bc2-f1eb-4cfc-b36c-ed06e0dc793b",
   "metadata": {
    "tags": []
   },
   "outputs": [
    {
     "data": {
      "text/plain": [
       "<seaborn.axisgrid.FacetGrid at 0x7fda7b04a3e0>"
      ]
     },
     "execution_count": 128,
     "metadata": {},
     "output_type": "execute_result"
    },
    {
     "data": {
      "image/png": "[encoded data removed]",
      "text/plain": [
       "<Figure size 619.875x500 with 1 Axes>"
      ]
     },
     "metadata": {},
     "output_type": "display_data"
    }
   ],
   "source": [
    "sns.relplot(x2, x=\"variable\",y=\"value\",hue=\"accession\", style=\"mapper\", kind=\"line\")"
   ]
  },
  {
   "cell_type": "code",
   "execution_count": null,
   "id": "50dda8c7-d59a-4bd5-924e-c2faaad8e429",
   "metadata": {},
   "outputs": [],
   "source": []
  },
  {
   "cell_type": "code",
   "execution_count": null,
   "id": "f63b8000-5200-4e8d-9847-4f820d8a9e72",
   "metadata": {},
   "outputs": [],
   "source": []
  },
  {
   "cell_type": "code",
   "execution_count": 15,
   "id": "84a75f42-0c94-432a-993b-f13cfe657686",
   "metadata": {},
   "outputs": [],
   "source": [
    "samples=pd.read_csv(\"at_samples.stats.csv\")"
   ]
  },
  {
   "cell_type": "code",
   "execution_count": 58,
   "id": "f1662165-f5fc-4e30-8268-9e1d8db291c2",
   "metadata": {},
   "outputs": [],
   "source": [
    "samples.columns = ['accession', 'Full-Length Reads', 'Full-Length Non-Chimeric Reads',\n",
    "       'Full-Length Non-Chimeric Reads with Poly-A Tail', 'pbmm2-Mapping',\n",
    "       'minimap2-Mapping']\n",
    "\n",
    "samples.columns = ['Accession', 'FL Reads', 'FLNC Reads',\n",
    "       'FLNC Reads + Poly(A)', 'pbmm2',\n",
    "       'minimap2']"
   ]
  },
  {
   "cell_type": "code",
   "execution_count": 61,
   "id": "93ed07ce-d09a-4709-b276-308ce567531f",
   "metadata": {},
   "outputs": [],
   "source": [
    "p1_melt=samples.melt(id_vars=\"Accession\", value_vars=['FL Reads', 'FLNC Reads',\n",
    "       'FLNC Reads + Poly(A)', 'pbmm2',\n",
    "       'minimap2'])"
   ]
  },
  {
   "cell_type": "code",
   "execution_count": 62,
   "id": "38c2b995-3022-49f4-bbaa-2976e35246ea",
   "metadata": {},
   "outputs": [
    {
     "data": {
      "text/html": [
       "<div>\n",
       "<style scoped>\n",
       "    .dataframe tbody tr th:only-of-type {\n",
       "        vertical-align: middle;\n",
       "    }\n",
       "\n",
       "    .dataframe tbody tr th {\n",
       "        vertical-align: top;\n",
       "    }\n",
       "\n",
       "    .dataframe thead th {\n",
       "        text-align: right;\n",
       "    }\n",
       "</style>\n",
       "<table border=\"1\" class=\"dataframe\">\n",
       "  <thead>\n",
       "    <tr style=\"text-align: right;\">\n",
       "      <th></th>\n",
       "      <th>Accession</th>\n",
       "      <th>variable</th>\n",
       "      <th>value</th>\n",
       "    </tr>\n",
       "  </thead>\n",
       "  <tbody>\n",
       "    <tr>\n",
       "      <th>0</th>\n",
       "      <td>at6923</td>\n",
       "      <td>FL Reads</td>\n",
       "      <td>891693</td>\n",
       "    </tr>\n",
       "    <tr>\n",
       "      <th>1</th>\n",
       "      <td>at6929</td>\n",
       "      <td>FL Reads</td>\n",
       "      <td>614870</td>\n",
       "    </tr>\n",
       "    <tr>\n",
       "      <th>2</th>\n",
       "      <td>at7143</td>\n",
       "      <td>FL Reads</td>\n",
       "      <td>695793</td>\n",
       "    </tr>\n",
       "    <tr>\n",
       "      <th>3</th>\n",
       "      <td>at8285</td>\n",
       "      <td>FL Reads</td>\n",
       "      <td>462467</td>\n",
       "    </tr>\n",
       "    <tr>\n",
       "      <th>4</th>\n",
       "      <td>at9104</td>\n",
       "      <td>FL Reads</td>\n",
       "      <td>613293</td>\n",
       "    </tr>\n",
       "    <tr>\n",
       "      <th>...</th>\n",
       "      <td>...</td>\n",
       "      <td>...</td>\n",
       "      <td>...</td>\n",
       "    </tr>\n",
       "    <tr>\n",
       "      <th>85</th>\n",
       "      <td>at9852</td>\n",
       "      <td>minimap2</td>\n",
       "      <td>498017</td>\n",
       "    </tr>\n",
       "    <tr>\n",
       "      <th>86</th>\n",
       "      <td>at9879</td>\n",
       "      <td>minimap2</td>\n",
       "      <td>475608</td>\n",
       "    </tr>\n",
       "    <tr>\n",
       "      <th>87</th>\n",
       "      <td>at9883</td>\n",
       "      <td>minimap2</td>\n",
       "      <td>464141</td>\n",
       "    </tr>\n",
       "    <tr>\n",
       "      <th>88</th>\n",
       "      <td>at9900</td>\n",
       "      <td>minimap2</td>\n",
       "      <td>653093</td>\n",
       "    </tr>\n",
       "    <tr>\n",
       "      <th>89</th>\n",
       "      <td>col0</td>\n",
       "      <td>minimap2</td>\n",
       "      <td>515929</td>\n",
       "    </tr>\n",
       "  </tbody>\n",
       "</table>\n",
       "<p>90 rows × 3 columns</p>\n",
       "</div>"
      ],
      "text/plain": [
       "   Accession  variable   value\n",
       "0     at6923  FL Reads  891693\n",
       "1     at6929  FL Reads  614870\n",
       "2     at7143  FL Reads  695793\n",
       "3     at8285  FL Reads  462467\n",
       "4     at9104  FL Reads  613293\n",
       "..       ...       ...     ...\n",
       "85    at9852  minimap2  498017\n",
       "86    at9879  minimap2  475608\n",
       "87    at9883  minimap2  464141\n",
       "88    at9900  minimap2  653093\n",
       "89      col0  minimap2  515929\n",
       "\n",
       "[90 rows x 3 columns]"
      ]
     },
     "execution_count": 62,
     "metadata": {},
     "output_type": "execute_result"
    }
   ],
   "source": [
    "p1_melt"
   ]
  },
  {
   "cell_type": "code",
   "execution_count": 70,
   "id": "f15bcba1-4a76-46fb-a0b7-80c03bdeabbc",
   "metadata": {},
   "outputs": [
    {
     "ename": "NameError",
     "evalue": "name 'ncols' is not defined",
     "output_type": "error",
     "traceback": [
      "\u001b[0;31m---------------------------------------------------------------------------\u001b[0m",
      "\u001b[0;31mNameError\u001b[0m                                 Traceback (most recent call last)",
      "Cell \u001b[0;32mIn[70], line 1\u001b[0m\n\u001b[0;32m----> 1\u001b[0m sns\u001b[38;5;241m.\u001b[39mmove_legend(\u001b[43mncols\u001b[49m)\n",
      "\u001b[0;31mNameError\u001b[0m: name 'ncols' is not defined"
     ]
    }
   ],
   "source": [
    "sns.move_legend(ncols)"
   ]
  },
  {
   "cell_type": "code",
   "execution_count": null,
   "id": "d81d6e1c-39a1-4513-b623-8c3b5f116f07",
   "metadata": {},
   "outputs": [],
   "source": []
  },
  {
   "cell_type": "code",
   "execution_count": 112,
   "id": "3647a3dd-b3d3-4771-af0d-773d1625e406",
   "metadata": {},
   "outputs": [
    {
     "name": "stderr",
     "output_type": "stream",
     "text": [
      "/tmp/ipykernel_92445/1257314012.py:17: UserWarning: FixedFormatter should only be used together with FixedLocator\n",
      "  ax.set_yticklabels(labels)\n"
     ]
    },
    {
     "data": {
      "text/plain": [
       "<Figure size 1200x500 with 0 Axes>"
      ]
     },
     "execution_count": 112,
     "metadata": {},
     "output_type": "execute_result"
    },
    {
     "data": {
      "image/png": "[encoded data removed]",
      "text/plain": [
       "<Figure size 640x480 with 1 Axes>"
      ]
     },
     "metadata": {},
     "output_type": "display_data"
    },
    {
     "data": {
      "text/plain": [
       "<Figure size 1200x500 with 0 Axes>"
      ]
     },
     "metadata": {},
     "output_type": "display_data"
    }
   ],
   "source": [
    "from matplotlib.pyplot import figure\n",
    "\n",
    "sns.set_palette(sns.color_palette(\"colorblind\"))\n",
    "#plt.figure(figsize=(12,5))\n",
    "\n",
    "fig, ax = plt.subplots(1, 1)\n",
    "p1=sns.barplot(p1_melt, x=\"variable\", y=\"value\", hue=\"Accession\", ax=ax)\n",
    "\n",
    "p1.set_xlabel(\"Applied tool\")\n",
    "p1.set_ylabel(\"n Reads\")\n",
    "\n",
    "sns.move_legend(p1, \"upper center\",\n",
    "    bbox_to_anchor=(0.5, 1.2), ncols=9, title=None, frameon=False,\n",
    ")\n",
    "\n",
    "labels = [int(float(t.get_text())*1000000) for t in ax.get_yticklabels()]\n",
    "ax.set_yticklabels(labels)\n",
    "figure(figsize=(12,5))\n",
    "\n",
    "\n",
    "#p1.axes.ticklabel_format(style='plain', axis='both')"
   ]
  },
  {
   "cell_type": "code",
   "execution_count": 114,
   "id": "c30bfaa9-3120-412c-9f79-ae34e3f7b339",
   "metadata": {},
   "outputs": [
    {
     "name": "stderr",
     "output_type": "stream",
     "text": [
      "/tmp/ipykernel_92445/115218684.py:14: UserWarning: FixedFormatter should only be used together with FixedLocator\n",
      "  p1.set_yticklabels([0, 200000, 400000, 600000, 800000, 1000000])\n"
     ]
    },
    {
     "data": {
      "text/plain": [
       "[Text(0, 0.0, '0'),\n",
       " Text(0, 200000.0, '200000'),\n",
       " Text(0, 400000.0, '400000'),\n",
       " Text(0, 600000.0, '600000'),\n",
       " Text(0, 800000.0, '800000'),\n",
       " Text(0, 1000000.0, '1000000'),\n",
       " Text(0, 1200000.0, '')]"
      ]
     },
     "execution_count": 114,
     "metadata": {},
     "output_type": "execute_result"
    },
    {
     "data": {
      "image/png": "[encoded data removed]",
      "text/plain": [
       "<Figure size 1200x500 with 1 Axes>"
      ]
     },
     "metadata": {},
     "output_type": "display_data"
    }
   ],
   "source": [
    "sns.set_palette(sns.color_palette(\"colorblind\"))\n",
    "plt.figure(figsize=(12,5))\n",
    "\n",
    "p1=sns.barplot(p1_melt, x=\"variable\", y=\"value\", hue=\"Accession\")\n",
    "\n",
    "p1.set_xlabel(\"Applied tool\")\n",
    "p1.set_ylabel(\"n Reads\")\n",
    "\n",
    "sns.move_legend(p1, \"upper center\",\n",
    "    bbox_to_anchor=(0.5, 1.2), ncols=9, title=None, frameon=False,\n",
    ")\n",
    "\n",
    "#labels = [int(float(t.get_text())*1000000) for t in ax.get_yticklabels()]\n",
    "p1.set_yticklabels([0, 200000, 400000, 600000, 800000, 1000000])\n",
    "\n",
    "\n",
    "#p1.axes.ticklabel_format(style='plain', axis='both')"
   ]
  },
  {
   "cell_type": "code",
   "execution_count": 115,
   "id": "36639ff5-ae87-4750-85fa-37527f68d6f5",
   "metadata": {},
   "outputs": [],
   "source": [
    "fig = p1.get_figure()\n",
    "fig.savefig(\"at_samples.stats.png\", bbox_inches='tight', dpi=200)"
   ]
  },
  {
   "cell_type": "code",
   "execution_count": null,
   "id": "711376dd-0b2d-43ac-9845-93517d195303",
   "metadata": {},
   "outputs": [],
   "source": []
  }
 ],
 "metadata": {
  "kernelspec": {
   "display_name": "Python 3 (ipykernel)",
   "language": "python",
   "name": "python3"
  },
  "language_info": {
   "codemirror_mode": {
    "name": "ipython",
    "version": 3
   },
   "file_extension": ".py",
   "mimetype": "text/x-python",
   "name": "python",
   "nbconvert_exporter": "python",
   "pygments_lexer": "ipython3",
   "version": "3.10.11"
  }
 },
 "nbformat": 4,
 "nbformat_minor": 5
}
