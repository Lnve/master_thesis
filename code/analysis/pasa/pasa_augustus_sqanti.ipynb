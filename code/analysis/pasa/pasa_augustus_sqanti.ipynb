{
 "cells": [
  {
   "cell_type": "code",
   "execution_count": 1,
   "id": "351b363d-e63d-40e6-88f2-7ccdafa56453",
   "metadata": {},
   "outputs": [],
   "source": [
    "import warnings\n",
    "warnings.simplefilter(action='ignore')\n",
    "import pandas as pd\n",
    "from tqdm import tqdm"
   ]
  },
  {
   "cell_type": "markdown",
   "id": "0c2b4462-27bd-42c7-b3f2-8841b9c26c38",
   "metadata": {},
   "source": [
    "# FULL RUN"
   ]
  },
  {
   "cell_type": "code",
   "execution_count": 2,
   "id": "9b29d87a-898c-4163-9087-ffc5113295bf",
   "metadata": {},
   "outputs": [
    {
     "name": "stderr",
     "output_type": "stream",
     "text": [
      "100%|████████████████████████████████████████████████████████████████████████████████████████████████████████████████████████████████████████████████████████████████████████████████████████████████████████| 18/18 [00:12<00:00,  1.47it/s]\n"
     ]
    }
   ],
   "source": [
    "accessions= ['at6923','at6929','at7143','at8285','at9104','at9336','at9503','at9578','at9744','at9762','at9806','at9830','at9847','at9852','at9879','at9883','at9900','col0']\n",
    "\n",
    "pasa_augustus_df = pd.DataFrame()\n",
    "for acc in tqdm(accessions):        \n",
    "\n",
    "    # -------------1-------------\n",
    "    # prepare sqanti output\n",
    "    sqanti = pd.read_csv(\"/ebio/abt6_projects7/dliso/dlis/leon_pipeline/analysis/pasa/output/augustus/{}/{}-augustus_updated_tama-vs-augustus_classification.txt\".format(acc,acc), sep=\"\\t\")\n",
    "    sub = sqanti[[\"isoform\",\"exons\",\"length\",\"structural_category\",\"associated_gene\",\"associated_transcript\",\"subcategory\",\"ORF_seq\"]]\n",
    "    sub[\"gene\"] = sub[\"isoform\"].str.split(\".\").str[0]\n",
    "    sub['accession'] = acc\n",
    "\n",
    "    pasa_augustus_df = pd.concat([pasa_augustus_df, sub])\n",
    "\n",
    "pasa_augustus_df = pasa_augustus_df[[\"gene\",\"isoform\",\"accession\",\"associated_gene\",\"associated_transcript\",\"exons\",\"length\",\"structural_category\",\"subcategory\",\"ORF_seq\"]]\n",
    "pasa_augustus_df.columns = [\"gene\",\"isoform\",\"accession\",\"associated_gene\",\"associated_transcript\",\"exons\",\"length\",\"structural_category\",\"subcategory\",\"Sqanti_ORF_seq\"]\n",
    "\n",
    "pasa_augustus_df.to_pickle(\"all_runs/pasa_augustus_sqanti.pkl\")\n",
    "# pasa_augustus_df.to_csv(\"./pasa_augustus_sqanti_{}.tsv\".format(run), sep=\"\\t\")"
   ]
  },
  {
   "cell_type": "code",
   "execution_count": null,
   "id": "7ea73d71-408b-4bc2-b64c-2d64c6daaaa9",
   "metadata": {},
   "outputs": [],
   "source": []
  }
 ],
 "metadata": {
  "kernelspec": {
   "display_name": "Python 3 (ipykernel)",
   "language": "python",
   "name": "python3"
  },
  "language_info": {
   "codemirror_mode": {
    "name": "ipython",
    "version": 3
   },
   "file_extension": ".py",
   "mimetype": "text/x-python",
   "name": "python",
   "nbconvert_exporter": "python",
   "pygments_lexer": "ipython3",
   "version": "3.10.11"
  }
 },
 "nbformat": 4,
 "nbformat_minor": 5
}
