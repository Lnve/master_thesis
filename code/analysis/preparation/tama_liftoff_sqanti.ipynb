{
 "cells": [
  {
   "cell_type": "code",
   "execution_count": 1,
   "id": "69b60681-4843-444a-9cd7-0b6dde1497ca",
   "metadata": {},
   "outputs": [],
   "source": [
    "import warnings\n",
    "warnings.simplefilter(action='ignore')\n",
    "import pandas as pd\n",
    "from tqdm import tqdm"
   ]
  },
  {
   "cell_type": "markdown",
   "id": "c4baaaea-2981-43be-bdb1-036155a94bdf",
   "metadata": {},
   "source": [
    "# FULL RUN"
   ]
  },
  {
   "cell_type": "code",
   "execution_count": 2,
   "id": "8d1ab243-cf45-4fb1-87e3-ea6a8e56078d",
   "metadata": {
    "tags": []
   },
   "outputs": [
    {
     "name": "stderr",
     "output_type": "stream",
     "text": [
      "100%|████████████████████████████████████████████████████████████████████████████████████████████████████████████████████████████████████████████████████████████████████████████████████████████████████████| 18/18 [00:50<00:00,  2.80s/it]\n"
     ]
    }
   ],
   "source": [
    "accessions= ['at6923','at6929','at7143','at8285','at9104','at9336','at9503','at9578','at9744','at9762','at9806','at9830','at9847','at9852','at9879','at9883','at9900','col0']\n",
    "\n",
    "tama_liftoff_df = pd.DataFrame()\n",
    "for acc in tqdm(accessions):\n",
    "    \n",
    "    # -------------1-------------\n",
    "    # prepare sqanti output\n",
    "    sqanti = pd.read_csv(\"/ebio/abt6_projects7/dliso/dlis/leon_pipeline/output/v2/collapse_tama/{}_liftoff_sqanti/{}-tama-vs-liftoff_classification.txt\".format(acc,acc), sep=\"\\t\")\n",
    "    sub = sqanti[[\"isoform\",\"exons\",\"length\",\"structural_category\",\"associated_gene\",\"associated_transcript\",\"subcategory\",\"ORF_seq\"]]\n",
    "    sub[\"gene\"] = sub[\"isoform\"].str.split(\".\").str[0]\n",
    "\n",
    "    # -------------3-------------\n",
    "    # prepare read support\n",
    "    reads = pd.read_csv(\"/ebio/abt6_projects7/dliso/dlis/leon_pipeline/output/v2/collapse_tama/{}.collapsed.tama.v2_read_support.txt\".format(acc), sep=\"\\t\")\n",
    "    r_sub = reads[[\"merge_trans_id\",\"trans_read_count\",\"gene_read_count\"]]\n",
    "    r_sub.columns = [\"isoform\", \"isoform_reads\", \"gene_reads\"]\n",
    "\n",
    "    # -------------4-------------\n",
    "    # add accession ID and merge all information\n",
    "    merged_all = pd.merge(left=sub, right=r_sub, how='left', left_on='isoform', right_on='isoform')\n",
    "    merged_all['accession'] = acc\n",
    "\n",
    "    tama_liftoff_df = pd.concat([tama_liftoff_df, merged_all])\n",
    "\n",
    "tama_liftoff_df = tama_liftoff_df[[\"gene\",\"isoform\",\"accession\",\"associated_gene\",\"associated_transcript\",\"exons\",\"length\",\"isoform_reads\",\"gene_reads\",\"structural_category\",\"subcategory\",\"ORF_seq\"]]\n",
    "tama_liftoff_df.columns = [\"gene\",\"isoform\",\"accession\",\"associated_gene\",\"associated_transcript\",\"exons\",\"length\",\"isoform_read_support\",\"gene_read_support\",\"structural_category\",\"subcategory\",\"Sqanti_ORF_seq\"]\n",
    "\n",
    "tama_liftoff_df.to_pickle(\"all_runs/tama_liftoff_sqanti.pkl\")\n",
    "tama_liftoff_df.to_csv(\"all_runs/tama_liftoff_sqanti.tsv\", sep=\"\\t\")"
   ]
  },
  {
   "cell_type": "code",
   "execution_count": null,
   "id": "516750be-529d-4d76-b089-87e253f15339",
   "metadata": {},
   "outputs": [],
   "source": []
  }
 ],
 "metadata": {
  "kernelspec": {
   "display_name": "Python 3 (ipykernel)",
   "language": "python",
   "name": "python3"
  },
  "language_info": {
   "codemirror_mode": {
    "name": "ipython",
    "version": 3
   },
   "file_extension": ".py",
   "mimetype": "text/x-python",
   "name": "python",
   "nbconvert_exporter": "python",
   "pygments_lexer": "ipython3",
   "version": "3.10.11"
  }
 },
 "nbformat": 4,
 "nbformat_minor": 5
}
