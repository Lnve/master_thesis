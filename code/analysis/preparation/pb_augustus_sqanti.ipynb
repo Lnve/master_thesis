{
 "cells": [
  {
   "cell_type": "code",
   "execution_count": 1,
   "id": "69b60681-4843-444a-9cd7-0b6dde1497ca",
   "metadata": {},
   "outputs": [],
   "source": [
    "import warnings\n",
    "warnings.simplefilter(action='ignore')\n",
    "import pandas as pd\n",
    "from tqdm import tqdm"
   ]
  },
  {
   "cell_type": "markdown",
   "id": "c4baaaea-2981-43be-bdb1-036155a94bdf",
   "metadata": {},
   "source": [
    "# FULL RUN"
   ]
  },
  {
   "cell_type": "code",
   "execution_count": 2,
   "id": "8d1ab243-cf45-4fb1-87e3-ea6a8e56078d",
   "metadata": {},
   "outputs": [
    {
     "name": "stderr",
     "output_type": "stream",
     "text": [
      "100%|█████████████████████████████████████████████████████████████████████████████████████████████████████████████████████████████████████████████████████████████████████████████████████████████████████| 18/18 [1:24:30<00:00, 281.72s/it]\n"
     ]
    }
   ],
   "source": [
    "accessions= ['at6923','at6929','at7143','at8285','at9104','at9336','at9503','at9578','at9744','at9762','at9806','at9830','at9847','at9852','at9879','at9883','at9900','col0']\n",
    "\n",
    "pb_augustus_df = pd.DataFrame()\n",
    "for acc in tqdm(accessions):\n",
    "\n",
    "    # -------------1-------------\n",
    "    # prepare sqanti output\n",
    "    sqanti = pd.read_csv(\"/ebio/abt6_projects7/dliso/dlis/leon_pipeline/output/v2/collapse_pb/{}_augustus_sqanti/{}-pb-vs-augustus_classification.txt\".format(acc,acc), sep=\"\\t\")\n",
    "    sub = sqanti[[\"isoform\",\"exons\",\"length\",\"structural_category\",\"associated_gene\",\"associated_transcript\",\"subcategory\",\"ORF_seq\"]]\n",
    "    sub[\"gene\"] = sub[\"isoform\"].str.split(\".\").str[0]+\".\"+sub[\"isoform\"].str.split(\".\").str[1]\n",
    "    # -------------2-------------\n",
    "    # prepare read support\n",
    "    reads=pd.read_csv(f\"/ebio/abt6_projects7/dliso/dlis/leon_pipeline/output/v2/collapse_pb/{acc}.collapsed.pb.v2.abundance.txt\",sep=\"\\t\", skiprows=3)\n",
    "    r_sub = reads[[\"pbid\",\"fl_assoc\"]]\n",
    "    r_sub.columns = [\"isoform\", \"isoform_reads\"]\n",
    "    r_sub[\"gene\"]=r_sub[\"isoform\"].str.split(\".\").str[0]+\".\"+r_sub[\"isoform\"].str.split(\".\").str[1]\n",
    "    for i in r_sub.groupby(\"gene\"):\n",
    "        r_sub.loc[r_sub[\"gene\"]==i[0], \"gene_reads\"] = i[1][\"isoform_reads\"].sum()\n",
    "    r_sub[\"gene_reads\"] = r_sub[\"gene_reads\"].astype(\"int\")\n",
    "\n",
    "    # -------------3------------\n",
    "    # add accession ID and merge all information\n",
    "    merged_all = pd.merge(left=sub, right=r_sub[[\"isoform\",\"isoform_reads\",\"gene_reads\"]], how='left', left_on='isoform', right_on='isoform')\n",
    "    merged_all['accession'] = acc\n",
    "\n",
    "    pb_augustus_df = pd.concat([pb_augustus_df, merged_all])\n",
    "\n",
    "pb_augustus_df = pb_augustus_df[[\"gene\",\"isoform\",\"accession\",\"associated_gene\",\"associated_transcript\",\"exons\",\"length\",\"isoform_reads\",\"gene_reads\",\"structural_category\",\"subcategory\",\"ORF_seq\"]]\n",
    "pb_augustus_df.columns = [\"gene\",\"isoform\",\"accession\",\"associated_gene\",\"associated_transcript\",\"exons\",\"length\",\"isoform_read_support\",\"gene_read_support\",\"structural_category\",\"subcategory\",\"Sqanti_ORF_seq\"]\n",
    "\n",
    "pb_augustus_df.to_pickle(\"all_runs/pb_augustus_sqanti.pkl\")\n",
    "pb_augustus_df.to_csv(\"all_runs/pb_augustus_sqanti.tsv\", sep=\"\\t\")"
   ]
  },
  {
   "cell_type": "code",
   "execution_count": null,
   "id": "26b541a4-33f9-49ad-a45e-c2ba5bfc3e04",
   "metadata": {},
   "outputs": [],
   "source": []
  },
  {
   "cell_type": "code",
   "execution_count": 8,
   "id": "c83ecbc1-9c8e-4ff5-af18-a77f6e4c7e04",
   "metadata": {},
   "outputs": [],
   "source": [
    "test=pd.read_pickle(\"pb_augustus_sqanti_full.pkl\")"
   ]
  },
  {
   "cell_type": "code",
   "execution_count": null,
   "id": "bf504d82-794d-4a37-a3be-b8522f4db927",
   "metadata": {},
   "outputs": [],
   "source": [
    "sns.displot(test, x=\"exons\", hue = \"accession\", kind=\"kde\",common_norm=False)\n",
    "plt.savefig(\"pb_augustus_exons_full.png\", bbox_inches='tight')\n",
    "plt.close()"
   ]
  },
  {
   "cell_type": "code",
   "execution_count": null,
   "id": "d85859ce-f355-4856-89a1-579187b2a446",
   "metadata": {},
   "outputs": [],
   "source": [
    "sns.displot(test, x=\"length\", hue = \"accession\", kind=\"kde\",common_norm=False)\n",
    "plt.savefig(\"pb_augustus_length_full.png\", bbox_inches='tight')\n",
    "plt.close()"
   ]
  }
 ],
 "metadata": {
  "kernelspec": {
   "display_name": "Python 3 (ipykernel)",
   "language": "python",
   "name": "python3"
  },
  "language_info": {
   "codemirror_mode": {
    "name": "ipython",
    "version": 3
   },
   "file_extension": ".py",
   "mimetype": "text/x-python",
   "name": "python",
   "nbconvert_exporter": "python",
   "pygments_lexer": "ipython3",
   "version": "3.10.11"
  }
 },
 "nbformat": 4,
 "nbformat_minor": 5
}
