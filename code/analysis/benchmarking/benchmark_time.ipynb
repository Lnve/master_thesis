{
 "cells": [
  {
   "cell_type": "code",
   "execution_count": 153,
   "id": "9c1daa45-8195-46ee-b754-5f3b5b9fe9fa",
   "metadata": {},
   "outputs": [],
   "source": [
    "import pandas as pd\n",
    "import glob"
   ]
  },
  {
   "cell_type": "code",
   "execution_count": 154,
   "id": "53a1dae7-209c-4531-bea7-c355bf73e890",
   "metadata": {},
   "outputs": [],
   "source": [
    "pipeline=pd.DataFrame()"
   ]
  },
  {
   "cell_type": "markdown",
   "id": "a8d5a780-4e87-425d-847f-b235b513f93a",
   "metadata": {},
   "source": [
    "CCS"
   ]
  },
  {
   "cell_type": "code",
   "execution_count": 155,
   "id": "4da5db33-a911-444f-bcf1-70d3f941ccf4",
   "metadata": {},
   "outputs": [],
   "source": [
    "ccs = pd.read_csv(\"stats/ccs_lima/ccs_pool1_benchmark.txt\", sep=\"\\t\")\n",
    "pipeline[\"ccs\"]=ccs[\"s\"]"
   ]
  },
  {
   "cell_type": "markdown",
   "id": "3a28d72a-64e0-4e11-b427-70f9a9f41bde",
   "metadata": {},
   "source": [
    "Lima"
   ]
  },
  {
   "cell_type": "code",
   "execution_count": 156,
   "id": "8934f595-99db-46cb-96d1-ef5385265087",
   "metadata": {},
   "outputs": [],
   "source": [
    "lima = pd.read_csv(\"stats/ccs_lima/lima_pool1_benchmark.txt\", sep=\"\\t\")\n",
    "pipeline[\"lima\"]=lima[\"s\"]"
   ]
  },
  {
   "cell_type": "markdown",
   "id": "b20c6b6e-d0dc-4ceb-85e2-66ed3f104a92",
   "metadata": {},
   "source": [
    "Refine - Concat"
   ]
  },
  {
   "cell_type": "code",
   "execution_count": 157,
   "id": "1a91d95e-742b-4357-bd5d-6b3b5536dddd",
   "metadata": {},
   "outputs": [],
   "source": [
    "rename = 0\n",
    "pipeline[\"rename\"]=0"
   ]
  },
  {
   "cell_type": "code",
   "execution_count": 158,
   "id": "91d319f7-6302-4458-bb27-72412ce6c526",
   "metadata": {},
   "outputs": [],
   "source": [
    "refine = pd.DataFrame()\n",
    "for file in glob.glob(\"stats/refine/*.txt\"):\n",
    "    f = pd.read_csv(file, sep=\"\\t\")\n",
    "    refine = pd.concat([refine, f])\n",
    "pipeline[\"refine\"]=refine[\"s\"].mean()"
   ]
  },
  {
   "cell_type": "code",
   "execution_count": 159,
   "id": "a29a8471-a31d-49b4-b36e-80bc1ac427fa",
   "metadata": {},
   "outputs": [],
   "source": [
    "rg = pd.DataFrame()\n",
    "for file in glob.glob(\"stats/combine/pool1*.txt\"):\n",
    "    f = pd.read_csv(file, sep=\"\\t\")\n",
    "    rg = pd.concat([rg, f])\n",
    "pipeline[\"read_group\"]=rg[\"s\"].mean()"
   ]
  },
  {
   "cell_type": "code",
   "execution_count": 160,
   "id": "c5b0b4c6-ef41-4d5b-8aa2-375413716659",
   "metadata": {},
   "outputs": [],
   "source": [
    "con = pd.DataFrame()\n",
    "for file in glob.glob(\"stats/combine/*concat*.txt\"):\n",
    "    f = pd.read_csv(file, sep=\"\\t\")\n",
    "    con = pd.concat([con, f])\n",
    "pipeline[\"concat\"]=con[\"s\"].mean()"
   ]
  },
  {
   "cell_type": "markdown",
   "id": "9fb954c6-2e5a-4cec-89a4-52e728e4ebbe",
   "metadata": {},
   "source": [
    "Mapping"
   ]
  },
  {
   "cell_type": "code",
   "execution_count": 161,
   "id": "d7ee50de-aafa-4e4a-bc76-cb062c345d27",
   "metadata": {},
   "outputs": [],
   "source": [
    "b2f=pd.DataFrame()\n",
    "for file in glob.glob(\"stats/mapping/*bam2fastq*.txt\"):\n",
    "    f = pd.read_csv(file, sep=\"\\t\")\n",
    "    b2f = pd.concat([b2f, f])\n",
    "pipeline[\"bam2fq\"]=b2f[\"s\"].mean()"
   ]
  },
  {
   "cell_type": "code",
   "execution_count": 162,
   "id": "cba1709c-6239-423b-88ff-e93d1ea67eaf",
   "metadata": {},
   "outputs": [],
   "source": [
    "rmdups=pd.DataFrame()\n",
    "for file in glob.glob(\"stats/mapping/*rmdups*.txt\"):\n",
    "    f = pd.read_csv(file, sep=\"\\t\")\n",
    "    rmdups = pd.concat([rmdups, f])\n",
    "pipeline[\"rm_dups\"]=rmdups[\"s\"].mean()"
   ]
  },
  {
   "cell_type": "code",
   "execution_count": 163,
   "id": "9cf42966-8dfb-48e5-be23-3587f102086c",
   "metadata": {},
   "outputs": [],
   "source": [
    "pbmm2 =pd.DataFrame()\n",
    "for file in glob.glob(\"stats/mapping/*pbmm2*.txt\"):\n",
    "    f = pd.read_csv(file, sep=\"\\t\")\n",
    "    pbmm2 = pd.concat([pbmm2, f])\n",
    "pipeline[\"pbmm2\"]=pbmm2[\"s\"].mean()"
   ]
  },
  {
   "cell_type": "code",
   "execution_count": 164,
   "id": "b0c32647-6edb-440f-8214-f1ada1307a2c",
   "metadata": {},
   "outputs": [],
   "source": [
    "minimap2 =pd.DataFrame()\n",
    "for file in glob.glob(\"stats/mapping/*mapping_minimap*.txt\"):\n",
    "    f = pd.read_csv(file, sep=\"\\t\")\n",
    "    minimap2 = pd.concat([minimap2, f])\n",
    "pipeline[\"minimap2\"]=minimap2[\"s\"].mean()"
   ]
  },
  {
   "cell_type": "code",
   "execution_count": 165,
   "id": "6a5edbc7-6396-4087-a3f1-62e66489f4ee",
   "metadata": {},
   "outputs": [],
   "source": [
    "index =pd.DataFrame()\n",
    "for file in glob.glob(\"stats/mapping/*index*.txt\"):\n",
    "    f = pd.read_csv(file, sep=\"\\t\")\n",
    "    index = pd.concat([index, f])\n",
    "pipeline[\"minimap_index\"]=index[\"s\"].mean()"
   ]
  },
  {
   "cell_type": "code",
   "execution_count": 196,
   "id": "5aaf1fbc-0d15-4ca2-9899-6f04d134389a",
   "metadata": {},
   "outputs": [],
   "source": [
    "pipeline_time=pd.DataFrame(pd.to_datetime(pipeline.T[0], unit=\"s\").dt.time)"
   ]
  },
  {
   "cell_type": "code",
   "execution_count": 197,
   "id": "7083880c-d259-445a-8929-07b77e253977",
   "metadata": {},
   "outputs": [
    {
     "data": {
      "text/html": [
       "<div>\n",
       "<style scoped>\n",
       "    .dataframe tbody tr th:only-of-type {\n",
       "        vertical-align: middle;\n",
       "    }\n",
       "\n",
       "    .dataframe tbody tr th {\n",
       "        vertical-align: top;\n",
       "    }\n",
       "\n",
       "    .dataframe thead th {\n",
       "        text-align: right;\n",
       "    }\n",
       "</style>\n",
       "<table border=\"1\" class=\"dataframe\">\n",
       "  <thead>\n",
       "    <tr style=\"text-align: right;\">\n",
       "      <th></th>\n",
       "      <th>0</th>\n",
       "    </tr>\n",
       "  </thead>\n",
       "  <tbody>\n",
       "    <tr>\n",
       "      <th>ccs</th>\n",
       "      <td>05:32:48.633800</td>\n",
       "    </tr>\n",
       "    <tr>\n",
       "      <th>lima</th>\n",
       "      <td>00:01:55.180400</td>\n",
       "    </tr>\n",
       "    <tr>\n",
       "      <th>rename</th>\n",
       "      <td>00:00:00</td>\n",
       "    </tr>\n",
       "    <tr>\n",
       "      <th>refine</th>\n",
       "      <td>00:01:10.372512</td>\n",
       "    </tr>\n",
       "    <tr>\n",
       "      <th>read_group</th>\n",
       "      <td>00:00:05.152675</td>\n",
       "    </tr>\n",
       "    <tr>\n",
       "      <th>concat</th>\n",
       "      <td>00:00:17.774324</td>\n",
       "    </tr>\n",
       "    <tr>\n",
       "      <th>bam2fq</th>\n",
       "      <td>00:00:22.763025</td>\n",
       "    </tr>\n",
       "    <tr>\n",
       "      <th>rm_dups</th>\n",
       "      <td>00:00:18.948587</td>\n",
       "    </tr>\n",
       "    <tr>\n",
       "      <th>pbmm2</th>\n",
       "      <td>00:00:15.980887</td>\n",
       "    </tr>\n",
       "    <tr>\n",
       "      <th>minimap2</th>\n",
       "      <td>00:06:12.909762</td>\n",
       "    </tr>\n",
       "    <tr>\n",
       "      <th>minimap_index</th>\n",
       "      <td>00:00:02.593637</td>\n",
       "    </tr>\n",
       "  </tbody>\n",
       "</table>\n",
       "</div>"
      ],
      "text/plain": [
       "                             0\n",
       "ccs            05:32:48.633800\n",
       "lima           00:01:55.180400\n",
       "rename                00:00:00\n",
       "refine         00:01:10.372512\n",
       "read_group     00:00:05.152675\n",
       "concat         00:00:17.774324\n",
       "bam2fq         00:00:22.763025\n",
       "rm_dups        00:00:18.948587\n",
       "pbmm2          00:00:15.980887\n",
       "minimap2       00:06:12.909762\n",
       "minimap_index  00:00:02.593637"
      ]
     },
     "execution_count": 197,
     "metadata": {},
     "output_type": "execute_result"
    }
   ],
   "source": [
    "pipeline_time"
   ]
  },
  {
   "cell_type": "code",
   "execution_count": 167,
   "id": "7243ae52-3621-4048-bffc-ad6657a028ea",
   "metadata": {},
   "outputs": [],
   "source": [
    "summed=pd.DataFrame()\n",
    "summed[\"ccs\"]=pipeline[\"ccs\"]\n",
    "summed[\"lima\"]=pipeline[\"lima\"]\n",
    "summed[\"refine\"]=pipeline[\"refine\"]\n",
    "summed[\"concat_reads\"]=pipeline[[\"read_group\",\"concat\"]].T[0].sum()\n",
    "summed[\"prepare_mapping\"]=pipeline[[\"bam2fq\",\"rm_dups\"]].T[0].sum()\n",
    "summed[\"pbmm2\"]=pipeline[\"pbmm2\"]\n",
    "summed[\"minimap2\"]=pipeline[[\"minimap2\",\"minimap_index\"]].T[0].sum()"
   ]
  },
  {
   "cell_type": "code",
   "execution_count": 169,
   "id": "ad1bbaa0-1c33-4ab2-bad3-89639125ad55",
   "metadata": {},
   "outputs": [
    {
     "data": {
      "text/html": [
       "<div>\n",
       "<style scoped>\n",
       "    .dataframe tbody tr th:only-of-type {\n",
       "        vertical-align: middle;\n",
       "    }\n",
       "\n",
       "    .dataframe tbody tr th {\n",
       "        vertical-align: top;\n",
       "    }\n",
       "\n",
       "    .dataframe thead th {\n",
       "        text-align: right;\n",
       "    }\n",
       "</style>\n",
       "<table border=\"1\" class=\"dataframe\">\n",
       "  <thead>\n",
       "    <tr style=\"text-align: right;\">\n",
       "      <th></th>\n",
       "      <th>0</th>\n",
       "    </tr>\n",
       "  </thead>\n",
       "  <tbody>\n",
       "    <tr>\n",
       "      <th>ccs</th>\n",
       "      <td>19968.633800</td>\n",
       "    </tr>\n",
       "    <tr>\n",
       "      <th>lima</th>\n",
       "      <td>115.180400</td>\n",
       "    </tr>\n",
       "    <tr>\n",
       "      <th>refine</th>\n",
       "      <td>70.372512</td>\n",
       "    </tr>\n",
       "    <tr>\n",
       "      <th>concat_reads</th>\n",
       "      <td>22.927000</td>\n",
       "    </tr>\n",
       "    <tr>\n",
       "      <th>prepare_mapping</th>\n",
       "      <td>41.711613</td>\n",
       "    </tr>\n",
       "    <tr>\n",
       "      <th>pbmm2</th>\n",
       "      <td>15.980887</td>\n",
       "    </tr>\n",
       "    <tr>\n",
       "      <th>minimap2</th>\n",
       "      <td>375.503400</td>\n",
       "    </tr>\n",
       "  </tbody>\n",
       "</table>\n",
       "</div>"
      ],
      "text/plain": [
       "                            0\n",
       "ccs              19968.633800\n",
       "lima               115.180400\n",
       "refine              70.372512\n",
       "concat_reads        22.927000\n",
       "prepare_mapping     41.711613\n",
       "pbmm2               15.980887\n",
       "minimap2           375.503400"
      ]
     },
     "execution_count": 169,
     "metadata": {},
     "output_type": "execute_result"
    }
   ],
   "source": [
    "summed.T"
   ]
  },
  {
   "cell_type": "code",
   "execution_count": 194,
   "id": "ad75d42a-a248-4dbf-bbcb-e86dcf5de34a",
   "metadata": {},
   "outputs": [],
   "source": [
    "summed_time=pd.DataFrame(pd.to_datetime(summed.T[0], unit=\"s\").dt.time)"
   ]
  },
  {
   "cell_type": "code",
   "execution_count": 195,
   "id": "bc4449a1-85e8-48a1-8618-2af3b6505ff1",
   "metadata": {},
   "outputs": [
    {
     "data": {
      "text/html": [
       "<div>\n",
       "<style scoped>\n",
       "    .dataframe tbody tr th:only-of-type {\n",
       "        vertical-align: middle;\n",
       "    }\n",
       "\n",
       "    .dataframe tbody tr th {\n",
       "        vertical-align: top;\n",
       "    }\n",
       "\n",
       "    .dataframe thead th {\n",
       "        text-align: right;\n",
       "    }\n",
       "</style>\n",
       "<table border=\"1\" class=\"dataframe\">\n",
       "  <thead>\n",
       "    <tr style=\"text-align: right;\">\n",
       "      <th></th>\n",
       "      <th>0</th>\n",
       "    </tr>\n",
       "  </thead>\n",
       "  <tbody>\n",
       "    <tr>\n",
       "      <th>ccs</th>\n",
       "      <td>05:32:48.633800</td>\n",
       "    </tr>\n",
       "    <tr>\n",
       "      <th>lima</th>\n",
       "      <td>00:01:55.180400</td>\n",
       "    </tr>\n",
       "    <tr>\n",
       "      <th>refine</th>\n",
       "      <td>00:01:10.372512</td>\n",
       "    </tr>\n",
       "    <tr>\n",
       "      <th>concat_reads</th>\n",
       "      <td>00:00:22.927000</td>\n",
       "    </tr>\n",
       "    <tr>\n",
       "      <th>prepare_mapping</th>\n",
       "      <td>00:00:41.711612</td>\n",
       "    </tr>\n",
       "    <tr>\n",
       "      <th>pbmm2</th>\n",
       "      <td>00:00:15.980887</td>\n",
       "    </tr>\n",
       "    <tr>\n",
       "      <th>minimap2</th>\n",
       "      <td>00:06:15.503400</td>\n",
       "    </tr>\n",
       "  </tbody>\n",
       "</table>\n",
       "</div>"
      ],
      "text/plain": [
       "                               0\n",
       "ccs              05:32:48.633800\n",
       "lima             00:01:55.180400\n",
       "refine           00:01:10.372512\n",
       "concat_reads     00:00:22.927000\n",
       "prepare_mapping  00:00:41.711612\n",
       "pbmm2            00:00:15.980887\n",
       "minimap2         00:06:15.503400"
      ]
     },
     "execution_count": 195,
     "metadata": {},
     "output_type": "execute_result"
    }
   ],
   "source": [
    "summed_time"
   ]
  },
  {
   "cell_type": "markdown",
   "id": "8e1bab73-6a54-4ec9-bdd6-3f601516a777",
   "metadata": {},
   "source": [
    "### Collapsing"
   ]
  },
  {
   "cell_type": "code",
   "execution_count": 239,
   "id": "dd92869a-ed71-4767-9844-37fddbe08a27",
   "metadata": {},
   "outputs": [],
   "source": [
    "coll=pd.DataFrame()"
   ]
  },
  {
   "cell_type": "code",
   "execution_count": 240,
   "id": "ca6f235b-e582-4ff2-9391-e2f4b9666587",
   "metadata": {},
   "outputs": [],
   "source": [
    "cpb=pd.DataFrame()\n",
    "for file in glob.glob(\"stats/collapse/pb*.txt\"):\n",
    "    f = pd.read_csv(file, sep=\"\\t\")\n",
    "    cpb = pd.concat([cpb, f])\n",
    "coll[\"c_pb\"]=[cpb[\"s\"].mean()]"
   ]
  },
  {
   "cell_type": "code",
   "execution_count": 242,
   "id": "a9e77b75-728a-4f88-a2ad-776401f59dc7",
   "metadata": {},
   "outputs": [],
   "source": [
    "x=[\"tama_v2_at6923_benchmark.txt\",\"tama_v2_at6929_benchmark.txt\",\"tama_v2_at7143_benchmark.txt\",\"tama_v2_at8285_benchmark.txt\",\n",
    "  \"tama_v2_at9104_benchmark.txt\",\"tama_v2_at9336_benchmark.txt\",\"tama_v2_at9503_benchmark.txt\",\"tama_v2_at9578_benchmark.txt\"]\n",
    "ct=pd.DataFrame()\n",
    "for file in x:\n",
    "    f = pd.read_csv(f\"stats/collapse/{file}\", sep=\"\\t\")\n",
    "    ct = pd.concat([ct, f])\n",
    "coll[\"c_t\"]=[ct[\"s\"].mean()]"
   ]
  },
  {
   "cell_type": "code",
   "execution_count": 243,
   "id": "d889a0c2-de4c-48ce-a03e-dbbaff9f963b",
   "metadata": {},
   "outputs": [],
   "source": [
    "b2g=pd.DataFrame()\n",
    "for file in glob.glob(\"stats/collapse/*bed2gtf*.txt\"):\n",
    "    f = pd.read_csv(file, sep=\"\\t\")\n",
    "    b2g = pd.concat([b2g, f])\n",
    "coll[\"b2g\"]=[b2g[\"s\"].mean()]"
   ]
  },
  {
   "cell_type": "code",
   "execution_count": 244,
   "id": "6dac72eb-3684-4187-ae00-33548dfd10d6",
   "metadata": {},
   "outputs": [],
   "source": [
    "g2g=pd.DataFrame()\n",
    "for file in glob.glob(\"stats/collapse/*gtf2gff*.txt\"):\n",
    "    f = pd.read_csv(file, sep=\"\\t\")\n",
    "    g2g = pd.concat([g2g, f])\n",
    "coll[\"g2g\"]=[g2g[\"s\"].mean()]"
   ]
  },
  {
   "cell_type": "code",
   "execution_count": 245,
   "id": "813b7569-c9ff-4736-9da5-20ef3b7d0c2f",
   "metadata": {},
   "outputs": [],
   "source": [
    "fl=pd.DataFrame()\n",
    "for file in glob.glob(\"stats/collapse/*file_list*.txt\"):\n",
    "    f = pd.read_csv(file, sep=\"\\t\")\n",
    "    fl = pd.concat([fl, f])\n",
    "coll[\"fl\"]=[fl[\"s\"].mean()]"
   ]
  },
  {
   "cell_type": "code",
   "execution_count": 246,
   "id": "64e7b8bd-efeb-4484-8ae9-549a26763b12",
   "metadata": {},
   "outputs": [],
   "source": [
    "rs=pd.DataFrame()\n",
    "for file in glob.glob(\"stats/collapse/*read_support*.txt\"):\n",
    "    f = pd.read_csv(file, sep=\"\\t\")\n",
    "    rs = pd.concat([rs, f])\n",
    "coll[\"rs\"]=[rs[\"s\"].mean()]"
   ]
  },
  {
   "cell_type": "code",
   "execution_count": 250,
   "id": "0eb6dac3-7e13-4b1a-93ca-d04d8b368c8d",
   "metadata": {},
   "outputs": [],
   "source": [
    "collapse_time=pd.DataFrame(pd.to_datetime(coll.T[0], unit=\"s\").dt.time)"
   ]
  },
  {
   "cell_type": "code",
   "execution_count": 251,
   "id": "80749017-c9d9-486d-bb32-4d1207ebe4cd",
   "metadata": {},
   "outputs": [
    {
     "data": {
      "text/html": [
       "<div>\n",
       "<style scoped>\n",
       "    .dataframe tbody tr th:only-of-type {\n",
       "        vertical-align: middle;\n",
       "    }\n",
       "\n",
       "    .dataframe tbody tr th {\n",
       "        vertical-align: top;\n",
       "    }\n",
       "\n",
       "    .dataframe thead th {\n",
       "        text-align: right;\n",
       "    }\n",
       "</style>\n",
       "<table border=\"1\" class=\"dataframe\">\n",
       "  <thead>\n",
       "    <tr style=\"text-align: right;\">\n",
       "      <th></th>\n",
       "      <th>0</th>\n",
       "    </tr>\n",
       "  </thead>\n",
       "  <tbody>\n",
       "    <tr>\n",
       "      <th>c_pb</th>\n",
       "      <td>00:00:17.357000</td>\n",
       "    </tr>\n",
       "    <tr>\n",
       "      <th>c_t</th>\n",
       "      <td>00:17:23.363300</td>\n",
       "    </tr>\n",
       "    <tr>\n",
       "      <th>b2g</th>\n",
       "      <td>00:00:05.901700</td>\n",
       "    </tr>\n",
       "    <tr>\n",
       "      <th>g2g</th>\n",
       "      <td>00:00:09.794687</td>\n",
       "    </tr>\n",
       "    <tr>\n",
       "      <th>fl</th>\n",
       "      <td>00:00:12.423625</td>\n",
       "    </tr>\n",
       "    <tr>\n",
       "      <th>rs</th>\n",
       "      <td>00:00:11.069350</td>\n",
       "    </tr>\n",
       "  </tbody>\n",
       "</table>\n",
       "</div>"
      ],
      "text/plain": [
       "                    0\n",
       "c_pb  00:00:17.357000\n",
       "c_t   00:17:23.363300\n",
       "b2g   00:00:05.901700\n",
       "g2g   00:00:09.794687\n",
       "fl    00:00:12.423625\n",
       "rs    00:00:11.069350"
      ]
     },
     "execution_count": 251,
     "metadata": {},
     "output_type": "execute_result"
    }
   ],
   "source": [
    "collapse_time"
   ]
  },
  {
   "cell_type": "markdown",
   "id": "73f9bc4f-c62a-4d2d-81f6-a790defc3014",
   "metadata": {},
   "source": [
    "### Sqanti"
   ]
  },
  {
   "cell_type": "code",
   "execution_count": 97,
   "id": "60fa9f6a-0d8d-4b0c-86d4-cc98280fcd60",
   "metadata": {},
   "outputs": [],
   "source": [
    "pipeline_sq=pd.DataFrame()"
   ]
  },
  {
   "cell_type": "code",
   "execution_count": 98,
   "id": "1bfed542-a9bb-46be-bc56-81db68ca1395",
   "metadata": {},
   "outputs": [],
   "source": [
    "pbg =pd.DataFrame()\n",
    "for file in glob.glob(\"stats/sqanti/*gff2gtf*.txt\"):\n",
    "    f = pd.read_csv(file, sep=\"\\t\")\n",
    "    pbg = pd.concat([pbg, f])\n",
    "pipeline_sq[\"pb_gff2gtf\"]=[pbg[\"s\"].mean()]"
   ]
  },
  {
   "cell_type": "code",
   "execution_count": 99,
   "id": "635a4aa4-40a4-43fc-aa81-4705f1d3a084",
   "metadata": {},
   "outputs": [],
   "source": [
    "pbsa =pd.DataFrame()\n",
    "for file in glob.glob(\"stats/sqanti/*pb_augustus*.txt\"):\n",
    "    f = pd.read_csv(file, sep=\"\\t\")\n",
    "    pbsa = pd.concat([pbsa, f])\n",
    "pipeline_sq[\"sqanti_pb_augustus\"]=pbsa[\"s\"].mean()"
   ]
  },
  {
   "cell_type": "code",
   "execution_count": 100,
   "id": "b6d97df5-2a74-40a3-abdd-fa9da76fbd34",
   "metadata": {},
   "outputs": [],
   "source": [
    "pbsl =pd.DataFrame()\n",
    "for file in glob.glob(\"stats/sqanti/*pb_liftoff*.txt\"):\n",
    "    f = pd.read_csv(file, sep=\"\\t\")\n",
    "    pbsl = pd.concat([pbsl, f])\n",
    "pipeline_sq[\"sqanti_pb_liftoff\"]=pbsl[\"s\"].mean()"
   ]
  },
  {
   "cell_type": "code",
   "execution_count": 101,
   "id": "63c6ba57-6048-47bc-a2c8-a088caa35a3b",
   "metadata": {},
   "outputs": [],
   "source": [
    "tsa=pd.DataFrame()\n",
    "for file in glob.glob(\"stats/sqanti/*tama_augustus*.txt\"):\n",
    "    f = pd.read_csv(file, sep=\"\\t\")\n",
    "    tsa = pd.concat([tsa, f])\n",
    "pipeline_sq[\"sqanti_tama_augustus\"]=tsa[\"s\"].mean()"
   ]
  },
  {
   "cell_type": "code",
   "execution_count": 102,
   "id": "b75e61bc-72ad-4d76-aefe-83d6eea53dae",
   "metadata": {},
   "outputs": [],
   "source": [
    "tsl=pd.DataFrame()\n",
    "for file in glob.glob(\"stats/sqanti/*tama_liftoff*.txt\"):\n",
    "    f = pd.read_csv(file, sep=\"\\t\")\n",
    "    tsl = pd.concat([tsl, f])\n",
    "pipeline_sq[\"sqanti_tama_liftoff\"]=tsl[\"s\"].mean()"
   ]
  },
  {
   "cell_type": "code",
   "execution_count": 233,
   "id": "9e44c53b-ed6a-4ee7-bb99-f1b6acae2f0d",
   "metadata": {},
   "outputs": [],
   "source": [
    "pipeline_sq[\"pb_sum\"]=pipeline_sq[[\"pb_gff2gtf\",\"sqanti_pb_augustus\",\"sqanti_pb_liftoff\"]].T[0].sum()\n",
    "pipeline_sq[\"tama_sum\"]=pipeline_sq[[\"sqanti_tama_augustus\",\"sqanti_tama_liftoff\"]].T[0].sum()"
   ]
  },
  {
   "cell_type": "code",
   "execution_count": 234,
   "id": "3d480fc9-b819-4282-ba4f-13ce9baf491a",
   "metadata": {},
   "outputs": [],
   "source": [
    "pipeline_sq_time=pd.DataFrame(pd.to_datetime(pipeline_sq.T[0], unit=\"s\").dt.time)"
   ]
  },
  {
   "cell_type": "code",
   "execution_count": 235,
   "id": "b1f44ec6-3c32-4154-bba4-edc67019c5de",
   "metadata": {},
   "outputs": [
    {
     "data": {
      "text/html": [
       "<div>\n",
       "<style scoped>\n",
       "    .dataframe tbody tr th:only-of-type {\n",
       "        vertical-align: middle;\n",
       "    }\n",
       "\n",
       "    .dataframe tbody tr th {\n",
       "        vertical-align: top;\n",
       "    }\n",
       "\n",
       "    .dataframe thead th {\n",
       "        text-align: right;\n",
       "    }\n",
       "</style>\n",
       "<table border=\"1\" class=\"dataframe\">\n",
       "  <thead>\n",
       "    <tr style=\"text-align: right;\">\n",
       "      <th></th>\n",
       "      <th>0</th>\n",
       "    </tr>\n",
       "  </thead>\n",
       "  <tbody>\n",
       "    <tr>\n",
       "      <th>pb_gff2gtf</th>\n",
       "      <td>00:00:05.726187</td>\n",
       "    </tr>\n",
       "    <tr>\n",
       "      <th>sqanti_pb_augustus</th>\n",
       "      <td>00:31:47.593200</td>\n",
       "    </tr>\n",
       "    <tr>\n",
       "      <th>sqanti_pb_liftoff</th>\n",
       "      <td>00:32:33.941600</td>\n",
       "    </tr>\n",
       "    <tr>\n",
       "      <th>sqanti_tama_augustus</th>\n",
       "      <td>00:33:53.637137</td>\n",
       "    </tr>\n",
       "    <tr>\n",
       "      <th>sqanti_tama_liftoff</th>\n",
       "      <td>00:32:59.574200</td>\n",
       "    </tr>\n",
       "    <tr>\n",
       "      <th>pb_sum</th>\n",
       "      <td>01:04:27.260987</td>\n",
       "    </tr>\n",
       "    <tr>\n",
       "      <th>tama_sum</th>\n",
       "      <td>01:06:53.211337</td>\n",
       "    </tr>\n",
       "  </tbody>\n",
       "</table>\n",
       "</div>"
      ],
      "text/plain": [
       "                                    0\n",
       "pb_gff2gtf            00:00:05.726187\n",
       "sqanti_pb_augustus    00:31:47.593200\n",
       "sqanti_pb_liftoff     00:32:33.941600\n",
       "sqanti_tama_augustus  00:33:53.637137\n",
       "sqanti_tama_liftoff   00:32:59.574200\n",
       "pb_sum                01:04:27.260987\n",
       "tama_sum              01:06:53.211337"
      ]
     },
     "execution_count": 235,
     "metadata": {},
     "output_type": "execute_result"
    }
   ],
   "source": [
    "pipeline_sq_time"
   ]
  },
  {
   "cell_type": "markdown",
   "id": "4aaffa7d-e8f7-42b4-ba17-69b059afb2a8",
   "metadata": {},
   "source": [
    "### pasa"
   ]
  },
  {
   "cell_type": "code",
   "execution_count": 105,
   "id": "5161de51-5c6f-4bc6-a146-20bb86130e4f",
   "metadata": {},
   "outputs": [],
   "source": [
    "pipeline_pasa=pd.DataFrame()"
   ]
  },
  {
   "cell_type": "code",
   "execution_count": 106,
   "id": "0399a88c-e383-43fa-b4a9-2ffcc4b52b3e",
   "metadata": {},
   "outputs": [],
   "source": [
    "i2f=pd.DataFrame()\n",
    "for file in glob.glob(\"stats/pasa/*iso2fasta*.txt\"):\n",
    "    f = pd.read_csv(file, sep=\"\\t\")\n",
    "    i2f = pd.concat([i2f, f])\n",
    "pipeline_pasa[\"iso2fasta\"]=[i2f[\"s\"].mean()]"
   ]
  },
  {
   "cell_type": "code",
   "execution_count": 107,
   "id": "e60be844-893b-4115-93dd-a8e7c6bcd534",
   "metadata": {},
   "outputs": [],
   "source": [
    "clean=pd.DataFrame()\n",
    "for file in glob.glob(\"stats/pasa/*seqclean*.txt\"):\n",
    "    f = pd.read_csv(file, sep=\"\\t\")\n",
    "    clean = pd.concat([clean, f])\n",
    "pipeline_pasa[\"seqclean\"]=clean[\"s\"].mean()"
   ]
  },
  {
   "cell_type": "code",
   "execution_count": 108,
   "id": "a862c754-3c0a-4a0f-a5c9-2a4bd01beed7",
   "metadata": {},
   "outputs": [],
   "source": [
    "config_align=pd.DataFrame()\n",
    "for file in glob.glob(\"stats/pasa/*config_align*.txt\"):\n",
    "    f = pd.read_csv(file, sep=\"\\t\")\n",
    "    config_align = pd.concat([config_align, f])\n",
    "pipeline_pasa[\"config_align\"]=config_align[\"s\"].mean()"
   ]
  },
  {
   "cell_type": "code",
   "execution_count": 109,
   "id": "4fb8add7-8ebe-4732-a4c3-d36e0c7959f0",
   "metadata": {},
   "outputs": [],
   "source": [
    "params=pd.DataFrame()\n",
    "for file in glob.glob(\"stats/pasa/*params*.txt\"):\n",
    "    f = pd.read_csv(file, sep=\"\\t\")\n",
    "    params = pd.concat([params, f])\n",
    "pipeline_pasa[\"set_params\"]=params[\"s\"].mean()"
   ]
  },
  {
   "cell_type": "code",
   "execution_count": 110,
   "id": "d518ed81-9200-47b4-9834-96d2885044ea",
   "metadata": {},
   "outputs": [],
   "source": [
    "config_anno=pd.DataFrame()\n",
    "for file in glob.glob(\"stats/pasa/*config_anno*.txt\"):\n",
    "    f = pd.read_csv(file, sep=\"\\t\")\n",
    "    config_anno = pd.concat([config_anno, f])\n",
    "pipeline_pasa[\"config_anno\"]=config_anno[\"s\"].mean()"
   ]
  },
  {
   "cell_type": "code",
   "execution_count": 111,
   "id": "3cb3a444-f866-4081-a803-4a2c92a988c0",
   "metadata": {},
   "outputs": [],
   "source": [
    "aug_align=pd.DataFrame()\n",
    "for file in glob.glob(\"stats/pasa/*augustus*alignment*.txt\"):\n",
    "    f = pd.read_csv(file, sep=\"\\t\")\n",
    "    aug_align = pd.concat([aug_align, f])\n",
    "pipeline_pasa[\"augustus_alignment\"]=aug_align[\"s\"].mean()"
   ]
  },
  {
   "cell_type": "code",
   "execution_count": 112,
   "id": "d1160201-9dfb-4737-bc23-7dbbae4bdc10",
   "metadata": {},
   "outputs": [],
   "source": [
    "lif_align=pd.DataFrame()\n",
    "for file in glob.glob(\"stats/pasa/*liftoff*alignment*.txt\"):\n",
    "    f = pd.read_csv(file, sep=\"\\t\")\n",
    "    lif_align = pd.concat([lif_align, f])\n",
    "pipeline_pasa[\"liftoff_alignment\"]=lif_align[\"s\"].mean()"
   ]
  },
  {
   "cell_type": "code",
   "execution_count": 113,
   "id": "a50b90ff-298c-4adc-b742-9656c9beb188",
   "metadata": {},
   "outputs": [],
   "source": [
    "aug_load=pd.DataFrame()\n",
    "for file in glob.glob(\"stats/pasa/*augustus*load*.txt\"):\n",
    "    f = pd.read_csv(file, sep=\"\\t\")\n",
    "    aug_load = pd.concat([aug_load, f])\n",
    "pipeline_pasa[\"augustus_loadAnno\"]=aug_load[\"s\"].mean()"
   ]
  },
  {
   "cell_type": "code",
   "execution_count": 114,
   "id": "ca2b1b3d-7c1b-4116-8ab3-c2762e274e05",
   "metadata": {},
   "outputs": [],
   "source": [
    "lif_load=pd.DataFrame()\n",
    "for file in glob.glob(\"stats/pasa/*liftoff*load*.txt\"):\n",
    "    f = pd.read_csv(file, sep=\"\\t\")\n",
    "    lif_load = pd.concat([lif_load, f])\n",
    "pipeline_pasa[\"liftoff_loadAnno\"]=lif_load[\"s\"].mean()"
   ]
  },
  {
   "cell_type": "code",
   "execution_count": 115,
   "id": "a0ae840e-11f9-4052-8ef3-5f443cf2930c",
   "metadata": {},
   "outputs": [],
   "source": [
    "aug_compare=pd.DataFrame()\n",
    "for file in glob.glob(\"stats/pasa/*augustus*compare*.txt\"):\n",
    "    f = pd.read_csv(file, sep=\"\\t\")\n",
    "    aug_compare = pd.concat([aug_compare, f])\n",
    "pipeline_pasa[\"augustus_compareAnno\"]=aug_compare[\"s\"].mean()"
   ]
  },
  {
   "cell_type": "code",
   "execution_count": 116,
   "id": "29701498-f65c-4792-bf0a-34797160b0da",
   "metadata": {},
   "outputs": [],
   "source": [
    "lif_compare=pd.DataFrame()\n",
    "for file in glob.glob(\"stats/pasa/*liftoff*compare*.txt\"):\n",
    "    f = pd.read_csv(file, sep=\"\\t\")\n",
    "    lif_compare = pd.concat([lif_compare, f])\n",
    "pipeline_pasa[\"liftoff_compareAnno\"]=lif_compare[\"s\"].mean()"
   ]
  },
  {
   "cell_type": "code",
   "execution_count": 117,
   "id": "a06b1d27-d682-4c4a-8094-692bf2b15664",
   "metadata": {},
   "outputs": [
    {
     "data": {
      "text/html": [
       "<div>\n",
       "<style scoped>\n",
       "    .dataframe tbody tr th:only-of-type {\n",
       "        vertical-align: middle;\n",
       "    }\n",
       "\n",
       "    .dataframe tbody tr th {\n",
       "        vertical-align: top;\n",
       "    }\n",
       "\n",
       "    .dataframe thead th {\n",
       "        text-align: right;\n",
       "    }\n",
       "</style>\n",
       "<table border=\"1\" class=\"dataframe\">\n",
       "  <thead>\n",
       "    <tr style=\"text-align: right;\">\n",
       "      <th></th>\n",
       "      <th>0</th>\n",
       "    </tr>\n",
       "  </thead>\n",
       "  <tbody>\n",
       "    <tr>\n",
       "      <th>iso2fasta</th>\n",
       "      <td>8.151450</td>\n",
       "    </tr>\n",
       "    <tr>\n",
       "      <th>seqclean</th>\n",
       "      <td>26.131150</td>\n",
       "    </tr>\n",
       "    <tr>\n",
       "      <th>config_align</th>\n",
       "      <td>8.287325</td>\n",
       "    </tr>\n",
       "    <tr>\n",
       "      <th>set_params</th>\n",
       "      <td>8.185519</td>\n",
       "    </tr>\n",
       "    <tr>\n",
       "      <th>config_anno</th>\n",
       "      <td>4.653644</td>\n",
       "    </tr>\n",
       "    <tr>\n",
       "      <th>augustus_alignment</th>\n",
       "      <td>4817.931012</td>\n",
       "    </tr>\n",
       "    <tr>\n",
       "      <th>liftoff_alignment</th>\n",
       "      <td>4585.033650</td>\n",
       "    </tr>\n",
       "    <tr>\n",
       "      <th>augustus_loadAnno</th>\n",
       "      <td>136.910663</td>\n",
       "    </tr>\n",
       "    <tr>\n",
       "      <th>liftoff_loadAnno</th>\n",
       "      <td>132.117700</td>\n",
       "    </tr>\n",
       "    <tr>\n",
       "      <th>augustus_compareAnno</th>\n",
       "      <td>24720.681862</td>\n",
       "    </tr>\n",
       "    <tr>\n",
       "      <th>liftoff_compareAnno</th>\n",
       "      <td>35358.314875</td>\n",
       "    </tr>\n",
       "  </tbody>\n",
       "</table>\n",
       "</div>"
      ],
      "text/plain": [
       "                                 0\n",
       "iso2fasta                 8.151450\n",
       "seqclean                 26.131150\n",
       "config_align              8.287325\n",
       "set_params                8.185519\n",
       "config_anno               4.653644\n",
       "augustus_alignment     4817.931012\n",
       "liftoff_alignment      4585.033650\n",
       "augustus_loadAnno       136.910663\n",
       "liftoff_loadAnno        132.117700\n",
       "augustus_compareAnno  24720.681862\n",
       "liftoff_compareAnno   35358.314875"
      ]
     },
     "execution_count": 117,
     "metadata": {},
     "output_type": "execute_result"
    }
   ],
   "source": [
    "pipeline_pasa.T"
   ]
  },
  {
   "cell_type": "code",
   "execution_count": 236,
   "id": "166bf3b6-e575-43dd-9d47-8e5e9efae004",
   "metadata": {},
   "outputs": [],
   "source": [
    "pipeline_pasa[\"prepare_sum\"]=pipeline_pasa[[\"iso2fasta\",\"seqclean\",\"config_align\",\"set_params\",\"config_anno\"]].T[0].sum()\n",
    "pipeline_pasa[\"augustus_sum\"]=pipeline_pasa[[\"augustus_alignment\",\"augustus_loadAnno\",\"augustus_compareAnno\"]].T[0].sum()\n",
    "pipeline_pasa[\"liftoff_sum\"]=pipeline_pasa[[\"liftoff_alignment\",\"liftoff_loadAnno\",\"liftoff_compareAnno\"]].T[0].sum()"
   ]
  },
  {
   "cell_type": "code",
   "execution_count": 237,
   "id": "af5ad016-edcc-4999-b7d1-046e71ad2778",
   "metadata": {},
   "outputs": [],
   "source": [
    "pipeline_pasa_time=pd.DataFrame(pd.to_datetime(pipeline_pasa.T[0], unit=\"s\").dt.time)"
   ]
  },
  {
   "cell_type": "code",
   "execution_count": 238,
   "id": "0e4c6153-0799-4346-a504-e8a72a1e93a2",
   "metadata": {},
   "outputs": [
    {
     "data": {
      "text/html": [
       "<div>\n",
       "<style scoped>\n",
       "    .dataframe tbody tr th:only-of-type {\n",
       "        vertical-align: middle;\n",
       "    }\n",
       "\n",
       "    .dataframe tbody tr th {\n",
       "        vertical-align: top;\n",
       "    }\n",
       "\n",
       "    .dataframe thead th {\n",
       "        text-align: right;\n",
       "    }\n",
       "</style>\n",
       "<table border=\"1\" class=\"dataframe\">\n",
       "  <thead>\n",
       "    <tr style=\"text-align: right;\">\n",
       "      <th></th>\n",
       "      <th>0</th>\n",
       "    </tr>\n",
       "  </thead>\n",
       "  <tbody>\n",
       "    <tr>\n",
       "      <th>iso2fasta</th>\n",
       "      <td>00:00:08.151450</td>\n",
       "    </tr>\n",
       "    <tr>\n",
       "      <th>seqclean</th>\n",
       "      <td>00:00:26.131150</td>\n",
       "    </tr>\n",
       "    <tr>\n",
       "      <th>config_align</th>\n",
       "      <td>00:00:08.287325</td>\n",
       "    </tr>\n",
       "    <tr>\n",
       "      <th>set_params</th>\n",
       "      <td>00:00:08.185518</td>\n",
       "    </tr>\n",
       "    <tr>\n",
       "      <th>config_anno</th>\n",
       "      <td>00:00:04.653643</td>\n",
       "    </tr>\n",
       "    <tr>\n",
       "      <th>augustus_alignment</th>\n",
       "      <td>01:20:17.931012</td>\n",
       "    </tr>\n",
       "    <tr>\n",
       "      <th>liftoff_alignment</th>\n",
       "      <td>01:16:25.033650</td>\n",
       "    </tr>\n",
       "    <tr>\n",
       "      <th>augustus_loadAnno</th>\n",
       "      <td>00:02:16.910662</td>\n",
       "    </tr>\n",
       "    <tr>\n",
       "      <th>liftoff_loadAnno</th>\n",
       "      <td>00:02:12.117700</td>\n",
       "    </tr>\n",
       "    <tr>\n",
       "      <th>augustus_compareAnno</th>\n",
       "      <td>06:52:00.681862</td>\n",
       "    </tr>\n",
       "    <tr>\n",
       "      <th>liftoff_compareAnno</th>\n",
       "      <td>09:49:18.314875</td>\n",
       "    </tr>\n",
       "    <tr>\n",
       "      <th>augustus_sum</th>\n",
       "      <td>08:14:35.523537</td>\n",
       "    </tr>\n",
       "    <tr>\n",
       "      <th>liftoff_sum</th>\n",
       "      <td>11:07:55.466225</td>\n",
       "    </tr>\n",
       "    <tr>\n",
       "      <th>prepare_sum</th>\n",
       "      <td>00:00:55.409087</td>\n",
       "    </tr>\n",
       "  </tbody>\n",
       "</table>\n",
       "</div>"
      ],
      "text/plain": [
       "                                    0\n",
       "iso2fasta             00:00:08.151450\n",
       "seqclean              00:00:26.131150\n",
       "config_align          00:00:08.287325\n",
       "set_params            00:00:08.185518\n",
       "config_anno           00:00:04.653643\n",
       "augustus_alignment    01:20:17.931012\n",
       "liftoff_alignment     01:16:25.033650\n",
       "augustus_loadAnno     00:02:16.910662\n",
       "liftoff_loadAnno      00:02:12.117700\n",
       "augustus_compareAnno  06:52:00.681862\n",
       "liftoff_compareAnno   09:49:18.314875\n",
       "augustus_sum          08:14:35.523537\n",
       "liftoff_sum           11:07:55.466225\n",
       "prepare_sum           00:00:55.409087"
      ]
     },
     "execution_count": 238,
     "metadata": {},
     "output_type": "execute_result"
    }
   ],
   "source": [
    "pipeline_pasa_time"
   ]
  },
  {
   "cell_type": "markdown",
   "id": "72bb550d-b587-47ff-ad26-76f7f53473cc",
   "metadata": {},
   "source": [
    "### Transdecoder"
   ]
  },
  {
   "cell_type": "code",
   "execution_count": 121,
   "id": "85f76b99-192f-4f73-99e3-5cf0c82b3305",
   "metadata": {},
   "outputs": [],
   "source": [
    "pipeline_tama_trans=pd.DataFrame()"
   ]
  },
  {
   "cell_type": "code",
   "execution_count": 122,
   "id": "d38da203-465d-4529-a052-3be09eff7d98",
   "metadata": {},
   "outputs": [],
   "source": [
    "tama_id=pd.DataFrame()\n",
    "for file in glob.glob(\"stats/transdecoder/*ID*.txt\"):\n",
    "    f = pd.read_csv(file, sep=\"\\t\")\n",
    "    tama_id = pd.concat([tama_id, f])\n",
    "pipeline_tama_trans[\"addID_tama\"]=[tama_id[\"s\"].mean()]"
   ]
  },
  {
   "cell_type": "code",
   "execution_count": 123,
   "id": "82b2ac0e-c359-49ab-badb-1edd2444a8b7",
   "metadata": {},
   "outputs": [],
   "source": [
    "tama_g2f=pd.DataFrame()\n",
    "for file in glob.glob(\"stats/transdecoder/*tama*gtf2fasta*.txt\"):\n",
    "    f = pd.read_csv(file, sep=\"\\t\")\n",
    "    tama_g2f = pd.concat([tama_g2f, f])\n",
    "pipeline_tama_trans[\"gtf2fasta\"]=tama_g2f[\"s\"].mean()"
   ]
  },
  {
   "cell_type": "code",
   "execution_count": 124,
   "id": "dcd13597-2eed-4200-a721-982d13515e93",
   "metadata": {},
   "outputs": [],
   "source": [
    "tama_g2g=pd.DataFrame()\n",
    "for file in glob.glob(\"stats/transdecoder/*tama*gtf2gff*.txt\"):\n",
    "    f = pd.read_csv(file, sep=\"\\t\")\n",
    "    tama_g2g = pd.concat([tama_g2g, f])\n",
    "pipeline_tama_trans[\"gtf2gff\"]=tama_g2g[\"s\"].mean()"
   ]
  },
  {
   "cell_type": "code",
   "execution_count": 125,
   "id": "fd32402f-1cb8-4dab-a3b8-d8c62255e943",
   "metadata": {},
   "outputs": [],
   "source": [
    "tama_long=pd.DataFrame()\n",
    "for file in glob.glob(\"stats/transdecoder/*tama*long*.txt\"):\n",
    "    f = pd.read_csv(file, sep=\"\\t\")\n",
    "    tama_long = pd.concat([tama_long, f])\n",
    "pipeline_tama_trans[\"longORF_tama\"]=tama_long[\"s\"].mean()"
   ]
  },
  {
   "cell_type": "code",
   "execution_count": 126,
   "id": "2b32f2cb-6c71-45dc-809b-9f57beb9a50e",
   "metadata": {},
   "outputs": [],
   "source": [
    "tama_predict=pd.DataFrame()\n",
    "for file in glob.glob(\"stats/transdecoder/*tama*predict*.txt\"):\n",
    "    f = pd.read_csv(file, sep=\"\\t\")\n",
    "    tama_predict = pd.concat([tama_predict, f])\n",
    "pipeline_tama_trans[\"predictORF_tama\"]=tama_predict[\"s\"].mean()"
   ]
  },
  {
   "cell_type": "code",
   "execution_count": 127,
   "id": "bb56b4e1-febc-4fa5-96b0-3a2285680471",
   "metadata": {},
   "outputs": [],
   "source": [
    "tama_anno=pd.DataFrame()\n",
    "for file in glob.glob(\"stats/transdecoder/*tama*anno*.txt\"):\n",
    "    f = pd.read_csv(file, sep=\"\\t\")\n",
    "    tama_anno = pd.concat([tama_anno, f])\n",
    "pipeline_tama_trans[\"anno_tama\"]=tama_anno[\"s\"].mean()"
   ]
  },
  {
   "cell_type": "code",
   "execution_count": 128,
   "id": "a20fcfd3-5e0e-4ef3-ba63-32977a252336",
   "metadata": {},
   "outputs": [],
   "source": [
    "tama_clean=pd.DataFrame()\n",
    "for file in glob.glob(\"stats/transdecoder/*tama*clean*.txt\"):\n",
    "    f = pd.read_csv(file, sep=\"\\t\")\n",
    "    tama_clean = pd.concat([tama_clean, f])\n",
    "pipeline_tama_trans[\"clean_tama\"]=tama_clean[\"s\"].mean()"
   ]
  },
  {
   "cell_type": "code",
   "execution_count": 129,
   "id": "a9b7953f-7649-48a5-bc0a-ef77f0b2991c",
   "metadata": {},
   "outputs": [],
   "source": [
    "tama_sort=pd.DataFrame()\n",
    "for file in glob.glob(\"stats/transdecoder/*tama*sort*.txt\"):\n",
    "    f = pd.read_csv(file, sep=\"\\t\")\n",
    "    tama_sort = pd.concat([tama_sort, f])\n",
    "pipeline_tama_trans[\"sort_tama\"]=tama_sort[\"s\"].mean()"
   ]
  },
  {
   "cell_type": "code",
   "execution_count": 220,
   "id": "3aa8a625-4e45-47e8-ac2c-510c2a7d537c",
   "metadata": {},
   "outputs": [],
   "source": [
    "pipeline_tama_trans[\"sum\"]=pipeline_tama_trans.T[0].sum()"
   ]
  },
  {
   "cell_type": "code",
   "execution_count": 221,
   "id": "62a56072-bd79-4a1a-8600-4b755d6795cf",
   "metadata": {},
   "outputs": [],
   "source": [
    "pipeline_tama_trans_time=pd.DataFrame(pd.to_datetime(pipeline_tama_trans.T[0], unit=\"s\").dt.time)"
   ]
  },
  {
   "cell_type": "code",
   "execution_count": 222,
   "id": "31ec8054-485f-4a9c-ac5b-109b5d54e021",
   "metadata": {},
   "outputs": [
    {
     "data": {
      "text/html": [
       "<div>\n",
       "<style scoped>\n",
       "    .dataframe tbody tr th:only-of-type {\n",
       "        vertical-align: middle;\n",
       "    }\n",
       "\n",
       "    .dataframe tbody tr th {\n",
       "        vertical-align: top;\n",
       "    }\n",
       "\n",
       "    .dataframe thead th {\n",
       "        text-align: right;\n",
       "    }\n",
       "</style>\n",
       "<table border=\"1\" class=\"dataframe\">\n",
       "  <thead>\n",
       "    <tr style=\"text-align: right;\">\n",
       "      <th></th>\n",
       "      <th>0</th>\n",
       "    </tr>\n",
       "  </thead>\n",
       "  <tbody>\n",
       "    <tr>\n",
       "      <th>addID_tama</th>\n",
       "      <td>00:00:13.997837</td>\n",
       "    </tr>\n",
       "    <tr>\n",
       "      <th>gtf2fasta</th>\n",
       "      <td>00:00:35.989512</td>\n",
       "    </tr>\n",
       "    <tr>\n",
       "      <th>gtf2gff</th>\n",
       "      <td>00:00:28.738412</td>\n",
       "    </tr>\n",
       "    <tr>\n",
       "      <th>longORF_tama</th>\n",
       "      <td>00:09:23.002937</td>\n",
       "    </tr>\n",
       "    <tr>\n",
       "      <th>predictORF_tama</th>\n",
       "      <td>00:28:02.396925</td>\n",
       "    </tr>\n",
       "    <tr>\n",
       "      <th>anno_tama</th>\n",
       "      <td>00:01:18.352600</td>\n",
       "    </tr>\n",
       "    <tr>\n",
       "      <th>clean_tama</th>\n",
       "      <td>00:00:01.994037</td>\n",
       "    </tr>\n",
       "    <tr>\n",
       "      <th>sort_tama</th>\n",
       "      <td>00:08:56.895837</td>\n",
       "    </tr>\n",
       "    <tr>\n",
       "      <th>sum</th>\n",
       "      <td>00:49:01.368100</td>\n",
       "    </tr>\n",
       "  </tbody>\n",
       "</table>\n",
       "</div>"
      ],
      "text/plain": [
       "                               0\n",
       "addID_tama       00:00:13.997837\n",
       "gtf2fasta        00:00:35.989512\n",
       "gtf2gff          00:00:28.738412\n",
       "longORF_tama     00:09:23.002937\n",
       "predictORF_tama  00:28:02.396925\n",
       "anno_tama        00:01:18.352600\n",
       "clean_tama       00:00:01.994037\n",
       "sort_tama        00:08:56.895837\n",
       "sum              00:49:01.368100"
      ]
     },
     "execution_count": 222,
     "metadata": {},
     "output_type": "execute_result"
    }
   ],
   "source": [
    "pipeline_tama_trans_time"
   ]
  },
  {
   "cell_type": "markdown",
   "id": "3f47b97b-aeb2-4c0f-a63a-f097ccc17eb2",
   "metadata": {},
   "source": [
    "PB"
   ]
  },
  {
   "cell_type": "code",
   "execution_count": 205,
   "id": "4696d9fa-7f83-4d52-87aa-5fcda25103ad",
   "metadata": {},
   "outputs": [],
   "source": [
    "pipeline_pb_trans=pd.DataFrame()"
   ]
  },
  {
   "cell_type": "code",
   "execution_count": 206,
   "id": "251bafe6-9d20-4959-89ba-6ced3806cc9c",
   "metadata": {},
   "outputs": [],
   "source": [
    "pb_g2f=pd.DataFrame()\n",
    "for file in glob.glob(\"stats/transdecoder/*pb*gtf2fasta*.txt\"):\n",
    "    f = pd.read_csv(file, sep=\"\\t\")\n",
    "    pb_g2f = pd.concat([pb_g2f, f])\n",
    "pipeline_pb_trans[\"gtf2fasta\"]=[pb_g2f[\"s\"].mean()]"
   ]
  },
  {
   "cell_type": "code",
   "execution_count": 207,
   "id": "8d627719-a9bb-4b36-9bd1-f71471099053",
   "metadata": {},
   "outputs": [],
   "source": [
    "pb_g2g=pd.DataFrame()\n",
    "for file in glob.glob(\"stats/transdecoder/*pb*gtf2gff*.txt\"):\n",
    "    f = pd.read_csv(file, sep=\"\\t\")\n",
    "    pb_g2g = pd.concat([pb_g2g, f])\n",
    "pipeline_pb_trans[\"gtf2gff\"]=pb_g2g[\"s\"].mean()"
   ]
  },
  {
   "cell_type": "code",
   "execution_count": 208,
   "id": "7a922eb7-fe84-4593-8574-220c12ae120e",
   "metadata": {},
   "outputs": [],
   "source": [
    "pb_long=pd.DataFrame()\n",
    "for file in glob.glob(\"stats/transdecoder/*pb*long*.txt\"):\n",
    "    f = pd.read_csv(file, sep=\"\\t\")\n",
    "    pb_long = pd.concat([pb_long, f])\n",
    "pipeline_pb_trans[\"longORF_pb\"]=pb_long[\"s\"].mean()"
   ]
  },
  {
   "cell_type": "code",
   "execution_count": 209,
   "id": "5c2ba9dc-4971-485b-bb32-40848f5046e8",
   "metadata": {},
   "outputs": [],
   "source": [
    "pb_predict=pd.DataFrame()\n",
    "for file in glob.glob(\"stats/transdecoder/*pb*predict*.txt\"):\n",
    "    f = pd.read_csv(file, sep=\"\\t\")\n",
    "    pb_predict = pd.concat([pb_predict, f])\n",
    "pipeline_pb_trans[\"predictORF_pb\"]=pb_predict[\"s\"].mean()"
   ]
  },
  {
   "cell_type": "code",
   "execution_count": 210,
   "id": "c330bcb5-e26b-4460-8f93-ce0f34f46b05",
   "metadata": {},
   "outputs": [],
   "source": [
    "pb_anno=pd.DataFrame()\n",
    "for file in glob.glob(\"stats/transdecoder/*pb*anno*.txt\"):\n",
    "    f = pd.read_csv(file, sep=\"\\t\")\n",
    "    pb_anno = pd.concat([pb_anno, f])\n",
    "pipeline_pb_trans[\"anno_pb\"]=pb_anno[\"s\"].mean()"
   ]
  },
  {
   "cell_type": "code",
   "execution_count": 211,
   "id": "a2394cb4-a02c-414f-bd2c-2bacff98ecb4",
   "metadata": {},
   "outputs": [],
   "source": [
    "pb_clean=pd.DataFrame()\n",
    "for file in glob.glob(\"stats/transdecoder/*pb*clean*.txt\"):\n",
    "    f = pd.read_csv(file, sep=\"\\t\")\n",
    "    pb_clean = pd.concat([pb_clean, f])\n",
    "pipeline_pb_trans[\"clean_pb\"]=pb_clean[\"s\"].mean()"
   ]
  },
  {
   "cell_type": "code",
   "execution_count": 212,
   "id": "9b5ba6db-757e-492e-ad14-57041c629820",
   "metadata": {},
   "outputs": [],
   "source": [
    "pb_sort=pd.DataFrame()\n",
    "for file in glob.glob(\"stats/transdecoder/*pb*sort*.txt\"):\n",
    "    f = pd.read_csv(file, sep=\"\\t\")\n",
    "    pb_sort = pd.concat([pb_sort, f])\n",
    "pipeline_pb_trans[\"sort_pb\"]=pb_sort[\"s\"].mean()"
   ]
  },
  {
   "cell_type": "code",
   "execution_count": 217,
   "id": "64ef159d-bd03-4156-bed9-bdcd12c62ed9",
   "metadata": {},
   "outputs": [],
   "source": [
    "pipeline_pb_trans[\"sum\"]=pipeline_pb_trans.T[0].sum()"
   ]
  },
  {
   "cell_type": "code",
   "execution_count": 218,
   "id": "c3b6774c-54f9-4fa0-84e0-3571051967b6",
   "metadata": {},
   "outputs": [],
   "source": [
    "pipeline_pb_trans_time=pd.DataFrame(pd.to_datetime(pipeline_pb_trans.T[0], unit=\"s\").dt.time)"
   ]
  },
  {
   "cell_type": "code",
   "execution_count": 219,
   "id": "3810c6d6-4ac6-4433-8e35-286d35318680",
   "metadata": {},
   "outputs": [
    {
     "data": {
      "text/html": [
       "<div>\n",
       "<style scoped>\n",
       "    .dataframe tbody tr th:only-of-type {\n",
       "        vertical-align: middle;\n",
       "    }\n",
       "\n",
       "    .dataframe tbody tr th {\n",
       "        vertical-align: top;\n",
       "    }\n",
       "\n",
       "    .dataframe thead th {\n",
       "        text-align: right;\n",
       "    }\n",
       "</style>\n",
       "<table border=\"1\" class=\"dataframe\">\n",
       "  <thead>\n",
       "    <tr style=\"text-align: right;\">\n",
       "      <th></th>\n",
       "      <th>0</th>\n",
       "    </tr>\n",
       "  </thead>\n",
       "  <tbody>\n",
       "    <tr>\n",
       "      <th>gtf2fasta</th>\n",
       "      <td>00:00:54.696349</td>\n",
       "    </tr>\n",
       "    <tr>\n",
       "      <th>gtf2gff</th>\n",
       "      <td>00:00:47.707312</td>\n",
       "    </tr>\n",
       "    <tr>\n",
       "      <th>longORF_pb</th>\n",
       "      <td>00:14:22.421375</td>\n",
       "    </tr>\n",
       "    <tr>\n",
       "      <th>predictORF_pb</th>\n",
       "      <td>00:40:58.753249</td>\n",
       "    </tr>\n",
       "    <tr>\n",
       "      <th>anno_pb</th>\n",
       "      <td>00:02:36.906325</td>\n",
       "    </tr>\n",
       "    <tr>\n",
       "      <th>clean_pb</th>\n",
       "      <td>00:00:06.777137</td>\n",
       "    </tr>\n",
       "    <tr>\n",
       "      <th>sort_pb</th>\n",
       "      <td>00:30:28.171325</td>\n",
       "    </tr>\n",
       "    <tr>\n",
       "      <th>sum</th>\n",
       "      <td>01:30:15.433075</td>\n",
       "    </tr>\n",
       "  </tbody>\n",
       "</table>\n",
       "</div>"
      ],
      "text/plain": [
       "                             0\n",
       "gtf2fasta      00:00:54.696349\n",
       "gtf2gff        00:00:47.707312\n",
       "longORF_pb     00:14:22.421375\n",
       "predictORF_pb  00:40:58.753249\n",
       "anno_pb        00:02:36.906325\n",
       "clean_pb       00:00:06.777137\n",
       "sort_pb        00:30:28.171325\n",
       "sum            01:30:15.433075"
      ]
     },
     "execution_count": 219,
     "metadata": {},
     "output_type": "execute_result"
    }
   ],
   "source": [
    "pipeline_pb_trans_time"
   ]
  },
  {
   "cell_type": "code",
   "execution_count": null,
   "id": "7e18d54a-edfa-48a4-9868-1a91487da28a",
   "metadata": {},
   "outputs": [],
   "source": []
  }
 ],
 "metadata": {
  "kernelspec": {
   "display_name": "Python 3 (ipykernel)",
   "language": "python",
   "name": "python3"
  },
  "language_info": {
   "codemirror_mode": {
    "name": "ipython",
    "version": 3
   },
   "file_extension": ".py",
   "mimetype": "text/x-python",
   "name": "python",
   "nbconvert_exporter": "python",
   "pygments_lexer": "ipython3",
   "version": "3.10.11"
  }
 },
 "nbformat": 4,
 "nbformat_minor": 5
}
